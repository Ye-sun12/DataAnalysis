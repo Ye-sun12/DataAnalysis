{
 "cells": [
  {
   "cell_type": "markdown",
   "metadata": {},
   "source": [
    "# 1.환경 만들기"
   ]
  },
  {
   "cell_type": "code",
   "execution_count": 38,
   "metadata": {},
   "outputs": [],
   "source": [
    "import pandas as pd\n",
    "import numpy as np\n",
    "import seaborn as sns\n",
    "import matplotlib.pyplot as plt\n",
    "\n",
    "%matplotlib inline"
   ]
  },
  {
   "cell_type": "code",
   "execution_count": 3,
   "metadata": {},
   "outputs": [],
   "source": [
    "import os\n",
    "\n",
    "if os.name == \"posix\":\n",
    "    plt.rc(\"font\", family=\"AppleGothic\")\n",
    "else :\n",
    "    plt.rc(\"font\", family=\"Malgun Gothic\")\n",
    "plt.rc(\"axes\", unicode_minus=False)"
   ]
  },
  {
   "cell_type": "code",
   "execution_count": 4,
   "metadata": {},
   "outputs": [],
   "source": [
    "%config inlineBackend.figure_format = \"retina\""
   ]
  },
  {
   "cell_type": "markdown",
   "metadata": {},
   "source": [
    "# 2.데이터 불러오기"
   ]
  },
  {
   "cell_type": "code",
   "execution_count": 17,
   "metadata": {
    "scrolled": true
   },
   "outputs": [
    {
     "data": {
      "text/plain": [
       "(21, 6)"
      ]
     },
     "execution_count": 17,
     "metadata": {},
     "output_type": "execute_result"
    }
   ],
   "source": [
    "df = pd.read_csv(\"TCS_F1_07_04_909878.csv\", encoding=\"cp949\")\n",
    "df.shape"
   ]
  },
  {
   "cell_type": "code",
   "execution_count": 18,
   "metadata": {
    "scrolled": true
   },
   "outputs": [
    {
     "data": {
      "text/html": [
       "<div>\n",
       "<style scoped>\n",
       "    .dataframe tbody tr th:only-of-type {\n",
       "        vertical-align: middle;\n",
       "    }\n",
       "\n",
       "    .dataframe tbody tr th {\n",
       "        vertical-align: top;\n",
       "    }\n",
       "\n",
       "    .dataframe thead th {\n",
       "        text-align: right;\n",
       "    }\n",
       "</style>\n",
       "<table border=\"1\" class=\"dataframe\">\n",
       "  <thead>\n",
       "    <tr style=\"text-align: right;\">\n",
       "      <th></th>\n",
       "      <th>일자</th>\n",
       "      <th>특수일구분명</th>\n",
       "      <th>특수일구분코드</th>\n",
       "      <th>특수일전후특송기간범위내용</th>\n",
       "      <th>특수일전후특송기간범위구분코드</th>\n",
       "      <th>교통량</th>\n",
       "    </tr>\n",
       "  </thead>\n",
       "  <tbody>\n",
       "    <tr>\n",
       "      <th>0</th>\n",
       "      <td>20200101</td>\n",
       "      <td>연말연시</td>\n",
       "      <td>1</td>\n",
       "      <td>D</td>\n",
       "      <td>4</td>\n",
       "      <td>3850431</td>\n",
       "    </tr>\n",
       "    <tr>\n",
       "      <th>1</th>\n",
       "      <td>20200102</td>\n",
       "      <td>연말연시</td>\n",
       "      <td>1</td>\n",
       "      <td>D+1</td>\n",
       "      <td>5</td>\n",
       "      <td>4312117</td>\n",
       "    </tr>\n",
       "    <tr>\n",
       "      <th>2</th>\n",
       "      <td>20200103</td>\n",
       "      <td>연말연시</td>\n",
       "      <td>1</td>\n",
       "      <td>D+2</td>\n",
       "      <td>6</td>\n",
       "      <td>4707697</td>\n",
       "    </tr>\n",
       "    <tr>\n",
       "      <th>3</th>\n",
       "      <td>20200104</td>\n",
       "      <td>연말연시</td>\n",
       "      <td>1</td>\n",
       "      <td>D+3</td>\n",
       "      <td>7</td>\n",
       "      <td>4335455</td>\n",
       "    </tr>\n",
       "    <tr>\n",
       "      <th>4</th>\n",
       "      <td>20200122</td>\n",
       "      <td>설날</td>\n",
       "      <td>2</td>\n",
       "      <td>D-3</td>\n",
       "      <td>1</td>\n",
       "      <td>4744082</td>\n",
       "    </tr>\n",
       "    <tr>\n",
       "      <th>5</th>\n",
       "      <td>20200123</td>\n",
       "      <td>설날</td>\n",
       "      <td>2</td>\n",
       "      <td>D-2</td>\n",
       "      <td>2</td>\n",
       "      <td>4905102</td>\n",
       "    </tr>\n",
       "    <tr>\n",
       "      <th>6</th>\n",
       "      <td>20200124</td>\n",
       "      <td>설날</td>\n",
       "      <td>2</td>\n",
       "      <td>D-1</td>\n",
       "      <td>3</td>\n",
       "      <td>4872315</td>\n",
       "    </tr>\n",
       "    <tr>\n",
       "      <th>7</th>\n",
       "      <td>20200125</td>\n",
       "      <td>설날</td>\n",
       "      <td>2</td>\n",
       "      <td>D</td>\n",
       "      <td>4</td>\n",
       "      <td>6184118</td>\n",
       "    </tr>\n",
       "    <tr>\n",
       "      <th>8</th>\n",
       "      <td>20200126</td>\n",
       "      <td>설날</td>\n",
       "      <td>2</td>\n",
       "      <td>D+1</td>\n",
       "      <td>5</td>\n",
       "      <td>5027428</td>\n",
       "    </tr>\n",
       "    <tr>\n",
       "      <th>9</th>\n",
       "      <td>20200127</td>\n",
       "      <td>설날</td>\n",
       "      <td>2</td>\n",
       "      <td>D+2</td>\n",
       "      <td>6</td>\n",
       "      <td>3542192</td>\n",
       "    </tr>\n",
       "    <tr>\n",
       "      <th>10</th>\n",
       "      <td>20200128</td>\n",
       "      <td>설날</td>\n",
       "      <td>2</td>\n",
       "      <td>D+3</td>\n",
       "      <td>7</td>\n",
       "      <td>4136628</td>\n",
       "    </tr>\n",
       "    <tr>\n",
       "      <th>11</th>\n",
       "      <td>20200928</td>\n",
       "      <td>추석</td>\n",
       "      <td>3</td>\n",
       "      <td>D-3</td>\n",
       "      <td>1</td>\n",
       "      <td>5154227</td>\n",
       "    </tr>\n",
       "    <tr>\n",
       "      <th>12</th>\n",
       "      <td>20200929</td>\n",
       "      <td>추석</td>\n",
       "      <td>3</td>\n",
       "      <td>D-2</td>\n",
       "      <td>2</td>\n",
       "      <td>5372557</td>\n",
       "    </tr>\n",
       "    <tr>\n",
       "      <th>13</th>\n",
       "      <td>20200930</td>\n",
       "      <td>추석</td>\n",
       "      <td>3</td>\n",
       "      <td>D-1</td>\n",
       "      <td>3</td>\n",
       "      <td>4390164</td>\n",
       "    </tr>\n",
       "    <tr>\n",
       "      <th>14</th>\n",
       "      <td>20201001</td>\n",
       "      <td>추석</td>\n",
       "      <td>3</td>\n",
       "      <td>D</td>\n",
       "      <td>4</td>\n",
       "      <td>4996551</td>\n",
       "    </tr>\n",
       "    <tr>\n",
       "      <th>15</th>\n",
       "      <td>20201002</td>\n",
       "      <td>추석</td>\n",
       "      <td>3</td>\n",
       "      <td>D+1</td>\n",
       "      <td>5</td>\n",
       "      <td>4661312</td>\n",
       "    </tr>\n",
       "    <tr>\n",
       "      <th>16</th>\n",
       "      <td>20201003</td>\n",
       "      <td>추석</td>\n",
       "      <td>3</td>\n",
       "      <td>D+2</td>\n",
       "      <td>6</td>\n",
       "      <td>4368800</td>\n",
       "    </tr>\n",
       "    <tr>\n",
       "      <th>17</th>\n",
       "      <td>20201004</td>\n",
       "      <td>추석</td>\n",
       "      <td>3</td>\n",
       "      <td>D+3</td>\n",
       "      <td>7</td>\n",
       "      <td>3746451</td>\n",
       "    </tr>\n",
       "    <tr>\n",
       "      <th>18</th>\n",
       "      <td>20201229</td>\n",
       "      <td>연말연시</td>\n",
       "      <td>1</td>\n",
       "      <td>D-3</td>\n",
       "      <td>1</td>\n",
       "      <td>4440342</td>\n",
       "    </tr>\n",
       "    <tr>\n",
       "      <th>19</th>\n",
       "      <td>20201230</td>\n",
       "      <td>연말연시</td>\n",
       "      <td>1</td>\n",
       "      <td>D-2</td>\n",
       "      <td>2</td>\n",
       "      <td>4096550</td>\n",
       "    </tr>\n",
       "    <tr>\n",
       "      <th>20</th>\n",
       "      <td>20201231</td>\n",
       "      <td>연말연시</td>\n",
       "      <td>1</td>\n",
       "      <td>D-1</td>\n",
       "      <td>3</td>\n",
       "      <td>3411786</td>\n",
       "    </tr>\n",
       "  </tbody>\n",
       "</table>\n",
       "</div>"
      ],
      "text/plain": [
       "          일자 특수일구분명   특수일구분코드  특수일전후특송기간범위내용   특수일전후특송기간범위구분코드      교통량\n",
       "0   20200101   연말연시         1              D                 4  3850431\n",
       "1   20200102   연말연시         1            D+1                 5  4312117\n",
       "2   20200103   연말연시         1            D+2                 6  4707697\n",
       "3   20200104   연말연시         1            D+3                 7  4335455\n",
       "4   20200122     설날         2            D-3                 1  4744082\n",
       "5   20200123     설날         2            D-2                 2  4905102\n",
       "6   20200124     설날         2            D-1                 3  4872315\n",
       "7   20200125     설날         2              D                 4  6184118\n",
       "8   20200126     설날         2            D+1                 5  5027428\n",
       "9   20200127     설날         2            D+2                 6  3542192\n",
       "10  20200128     설날         2            D+3                 7  4136628\n",
       "11  20200928     추석         3            D-3                 1  5154227\n",
       "12  20200929     추석         3            D-2                 2  5372557\n",
       "13  20200930     추석         3            D-1                 3  4390164\n",
       "14  20201001     추석         3              D                 4  4996551\n",
       "15  20201002     추석         3            D+1                 5  4661312\n",
       "16  20201003     추석         3            D+2                 6  4368800\n",
       "17  20201004     추석         3            D+3                 7  3746451\n",
       "18  20201229   연말연시         1            D-3                 1  4440342\n",
       "19  20201230   연말연시         1            D-2                 2  4096550\n",
       "20  20201231   연말연시         1            D-1                 3  3411786"
      ]
     },
     "execution_count": 18,
     "metadata": {},
     "output_type": "execute_result"
    }
   ],
   "source": [
    "df"
   ]
  },
  {
   "cell_type": "code",
   "execution_count": 49,
   "metadata": {},
   "outputs": [
    {
     "name": "stdout",
     "output_type": "stream",
     "text": [
      "<class 'pandas.core.frame.DataFrame'>\n",
      "RangeIndex: 14 entries, 4 to 17\n",
      "Data columns (total 6 columns):\n",
      " #   Column            Non-Null Count  Dtype \n",
      "---  ------            --------------  ----- \n",
      " 0   일자                14 non-null     int64 \n",
      " 1   특수일구분명            14 non-null     object\n",
      " 2    특수일구분코드          14 non-null     int64 \n",
      " 3    특수일전후특송기간범위내용    14 non-null     object\n",
      " 4    특수일전후특송기간범위구분코드  14 non-null     int64 \n",
      " 5    교통량              14 non-null     int64 \n",
      "dtypes: int64(4), object(2)\n",
      "memory usage: 804.0+ bytes\n"
     ]
    }
   ],
   "source": [
    "df.info()"
   ]
  },
  {
   "cell_type": "markdown",
   "metadata": {},
   "source": [
    "# 3.가설 세우기\n",
    "가설: 설날과 추석 중 설날에 더 많은 차량이 이동할 것이다."
   ]
  },
  {
   "cell_type": "code",
   "execution_count": 19,
   "metadata": {},
   "outputs": [
    {
     "data": {
      "text/html": [
       "<div>\n",
       "<style scoped>\n",
       "    .dataframe tbody tr th:only-of-type {\n",
       "        vertical-align: middle;\n",
       "    }\n",
       "\n",
       "    .dataframe tbody tr th {\n",
       "        vertical-align: top;\n",
       "    }\n",
       "\n",
       "    .dataframe thead th {\n",
       "        text-align: right;\n",
       "    }\n",
       "</style>\n",
       "<table border=\"1\" class=\"dataframe\">\n",
       "  <thead>\n",
       "    <tr style=\"text-align: right;\">\n",
       "      <th></th>\n",
       "      <th>일자</th>\n",
       "      <th>특수일구분명</th>\n",
       "      <th>특수일구분코드</th>\n",
       "      <th>특수일전후특송기간범위내용</th>\n",
       "      <th>특수일전후특송기간범위구분코드</th>\n",
       "      <th>교통량</th>\n",
       "    </tr>\n",
       "  </thead>\n",
       "  <tbody>\n",
       "    <tr>\n",
       "      <th>4</th>\n",
       "      <td>20200122</td>\n",
       "      <td>설날</td>\n",
       "      <td>2</td>\n",
       "      <td>D-3</td>\n",
       "      <td>1</td>\n",
       "      <td>4744082</td>\n",
       "    </tr>\n",
       "    <tr>\n",
       "      <th>5</th>\n",
       "      <td>20200123</td>\n",
       "      <td>설날</td>\n",
       "      <td>2</td>\n",
       "      <td>D-2</td>\n",
       "      <td>2</td>\n",
       "      <td>4905102</td>\n",
       "    </tr>\n",
       "    <tr>\n",
       "      <th>6</th>\n",
       "      <td>20200124</td>\n",
       "      <td>설날</td>\n",
       "      <td>2</td>\n",
       "      <td>D-1</td>\n",
       "      <td>3</td>\n",
       "      <td>4872315</td>\n",
       "    </tr>\n",
       "    <tr>\n",
       "      <th>7</th>\n",
       "      <td>20200125</td>\n",
       "      <td>설날</td>\n",
       "      <td>2</td>\n",
       "      <td>D</td>\n",
       "      <td>4</td>\n",
       "      <td>6184118</td>\n",
       "    </tr>\n",
       "    <tr>\n",
       "      <th>8</th>\n",
       "      <td>20200126</td>\n",
       "      <td>설날</td>\n",
       "      <td>2</td>\n",
       "      <td>D+1</td>\n",
       "      <td>5</td>\n",
       "      <td>5027428</td>\n",
       "    </tr>\n",
       "    <tr>\n",
       "      <th>9</th>\n",
       "      <td>20200127</td>\n",
       "      <td>설날</td>\n",
       "      <td>2</td>\n",
       "      <td>D+2</td>\n",
       "      <td>6</td>\n",
       "      <td>3542192</td>\n",
       "    </tr>\n",
       "    <tr>\n",
       "      <th>10</th>\n",
       "      <td>20200128</td>\n",
       "      <td>설날</td>\n",
       "      <td>2</td>\n",
       "      <td>D+3</td>\n",
       "      <td>7</td>\n",
       "      <td>4136628</td>\n",
       "    </tr>\n",
       "    <tr>\n",
       "      <th>11</th>\n",
       "      <td>20200928</td>\n",
       "      <td>추석</td>\n",
       "      <td>3</td>\n",
       "      <td>D-3</td>\n",
       "      <td>1</td>\n",
       "      <td>5154227</td>\n",
       "    </tr>\n",
       "    <tr>\n",
       "      <th>12</th>\n",
       "      <td>20200929</td>\n",
       "      <td>추석</td>\n",
       "      <td>3</td>\n",
       "      <td>D-2</td>\n",
       "      <td>2</td>\n",
       "      <td>5372557</td>\n",
       "    </tr>\n",
       "    <tr>\n",
       "      <th>13</th>\n",
       "      <td>20200930</td>\n",
       "      <td>추석</td>\n",
       "      <td>3</td>\n",
       "      <td>D-1</td>\n",
       "      <td>3</td>\n",
       "      <td>4390164</td>\n",
       "    </tr>\n",
       "    <tr>\n",
       "      <th>14</th>\n",
       "      <td>20201001</td>\n",
       "      <td>추석</td>\n",
       "      <td>3</td>\n",
       "      <td>D</td>\n",
       "      <td>4</td>\n",
       "      <td>4996551</td>\n",
       "    </tr>\n",
       "    <tr>\n",
       "      <th>15</th>\n",
       "      <td>20201002</td>\n",
       "      <td>추석</td>\n",
       "      <td>3</td>\n",
       "      <td>D+1</td>\n",
       "      <td>5</td>\n",
       "      <td>4661312</td>\n",
       "    </tr>\n",
       "    <tr>\n",
       "      <th>16</th>\n",
       "      <td>20201003</td>\n",
       "      <td>추석</td>\n",
       "      <td>3</td>\n",
       "      <td>D+2</td>\n",
       "      <td>6</td>\n",
       "      <td>4368800</td>\n",
       "    </tr>\n",
       "    <tr>\n",
       "      <th>17</th>\n",
       "      <td>20201004</td>\n",
       "      <td>추석</td>\n",
       "      <td>3</td>\n",
       "      <td>D+3</td>\n",
       "      <td>7</td>\n",
       "      <td>3746451</td>\n",
       "    </tr>\n",
       "  </tbody>\n",
       "</table>\n",
       "</div>"
      ],
      "text/plain": [
       "          일자 특수일구분명   특수일구분코드  특수일전후특송기간범위내용   특수일전후특송기간범위구분코드      교통량\n",
       "4   20200122     설날         2            D-3                 1  4744082\n",
       "5   20200123     설날         2            D-2                 2  4905102\n",
       "6   20200124     설날         2            D-1                 3  4872315\n",
       "7   20200125     설날         2              D                 4  6184118\n",
       "8   20200126     설날         2            D+1                 5  5027428\n",
       "9   20200127     설날         2            D+2                 6  3542192\n",
       "10  20200128     설날         2            D+3                 7  4136628\n",
       "11  20200928     추석         3            D-3                 1  5154227\n",
       "12  20200929     추석         3            D-2                 2  5372557\n",
       "13  20200930     추석         3            D-1                 3  4390164\n",
       "14  20201001     추석         3              D                 4  4996551\n",
       "15  20201002     추석         3            D+1                 5  4661312\n",
       "16  20201003     추석         3            D+2                 6  4368800\n",
       "17  20201004     추석         3            D+3                 7  3746451"
      ]
     },
     "execution_count": 19,
     "metadata": {},
     "output_type": "execute_result"
    }
   ],
   "source": [
    "df = df[4:18]\n",
    "df"
   ]
  },
  {
   "cell_type": "code",
   "execution_count": 21,
   "metadata": {},
   "outputs": [
    {
     "data": {
      "text/html": [
       "<div>\n",
       "<style scoped>\n",
       "    .dataframe tbody tr th:only-of-type {\n",
       "        vertical-align: middle;\n",
       "    }\n",
       "\n",
       "    .dataframe tbody tr th {\n",
       "        vertical-align: top;\n",
       "    }\n",
       "\n",
       "    .dataframe thead th {\n",
       "        text-align: right;\n",
       "    }\n",
       "</style>\n",
       "<table border=\"1\" class=\"dataframe\">\n",
       "  <thead>\n",
       "    <tr style=\"text-align: right;\">\n",
       "      <th></th>\n",
       "      <th>일자</th>\n",
       "      <th>특수일구분코드</th>\n",
       "      <th>특수일전후특송기간범위구분코드</th>\n",
       "      <th>교통량</th>\n",
       "    </tr>\n",
       "    <tr>\n",
       "      <th>특수일구분명</th>\n",
       "      <th></th>\n",
       "      <th></th>\n",
       "      <th></th>\n",
       "      <th></th>\n",
       "    </tr>\n",
       "  </thead>\n",
       "  <tbody>\n",
       "    <tr>\n",
       "      <th>설날</th>\n",
       "      <td>141400875</td>\n",
       "      <td>14</td>\n",
       "      <td>28</td>\n",
       "      <td>33411865</td>\n",
       "    </tr>\n",
       "    <tr>\n",
       "      <th>추석</th>\n",
       "      <td>141406797</td>\n",
       "      <td>21</td>\n",
       "      <td>28</td>\n",
       "      <td>32690062</td>\n",
       "    </tr>\n",
       "  </tbody>\n",
       "</table>\n",
       "</div>"
      ],
      "text/plain": [
       "               일자   특수일구분코드   특수일전후특송기간범위구분코드       교통량\n",
       "특수일구분명                                                 \n",
       "설날      141400875        14                28  33411865\n",
       "추석      141406797        21                28  32690062"
      ]
     },
     "execution_count": 21,
     "metadata": {},
     "output_type": "execute_result"
    }
   ],
   "source": [
    "df_group=df.groupby([\"특수일구분명\"]).sum()\n",
    "df_group"
   ]
  },
  {
   "cell_type": "markdown",
   "metadata": {},
   "source": [
    "# 4.확인하기\n",
    "sum()의 결과가 설날이 추석보다 많으므로 설날과 추석 중 설날에 더 많은 차량이 이동한다는 것을 알 수 있다."
   ]
  },
  {
   "cell_type": "markdown",
   "metadata": {},
   "source": [
    "# 5.그래프 그리기"
   ]
  },
  {
   "cell_type": "code",
   "execution_count": 48,
   "metadata": {},
   "outputs": [
    {
     "data": {
      "text/plain": [
       "<AxesSubplot:>"
      ]
     },
     "execution_count": 48,
     "metadata": {},
     "output_type": "execute_result"
    },
    {
     "data": {
      "image/png": "[encoded data removed]",
      "text/plain": [
       "<Figure size 432x288 with 1 Axes>"
      ]
     },
     "metadata": {
      "needs_background": "light"
     },
     "output_type": "display_data"
    }
   ],
   "source": [
    "df[\"특수일구분명\"].value_counts().plot.bar()"
   ]
  },
  {
   "cell_type": "code",
   "execution_count": 40,
   "metadata": {},
   "outputs": [
    {
     "data": {
      "text/plain": [
       "Index(['일자', '특수일구분명', ' 특수일구분코드', ' 특수일전후특송기간범위내용', ' 특수일전후특송기간범위구분코드',\n",
       "       ' 교통량'],\n",
       "      dtype='object')"
      ]
     },
     "execution_count": 40,
     "metadata": {},
     "output_type": "execute_result"
    }
   ],
   "source": [
    "df.columns"
   ]
  },
  {
   "cell_type": "code",
   "execution_count": 65,
   "metadata": {},
   "outputs": [
    {
     "ename": "ValueError",
     "evalue": "Could not interpret input '특수일전후특송기간범위구분코드'",
     "output_type": "error",
     "traceback": [
      "\u001b[1;31m---------------------------------------------------------------------------\u001b[0m",
      "\u001b[1;31mValueError\u001b[0m                                Traceback (most recent call last)",
      "\u001b[1;32m<ipython-input-65-4e1ac92d310b>\u001b[0m in \u001b[0;36m<module>\u001b[1;34m\u001b[0m\n\u001b[1;32m----> 1\u001b[1;33m \u001b[0msns\u001b[0m\u001b[1;33m.\u001b[0m\u001b[0mpointplot\u001b[0m\u001b[1;33m(\u001b[0m\u001b[0mdata\u001b[0m\u001b[1;33m=\u001b[0m\u001b[0mdf\u001b[0m\u001b[1;33m.\u001b[0m\u001b[0mfillna\u001b[0m\u001b[1;33m(\u001b[0m\u001b[1;36m0\u001b[0m\u001b[1;33m)\u001b[0m\u001b[1;33m,\u001b[0m \u001b[0mx\u001b[0m\u001b[1;33m=\u001b[0m\u001b[1;34m\"특수일전후특송기간범위구분코드\"\u001b[0m\u001b[1;33m,\u001b[0m \u001b[0my\u001b[0m\u001b[1;33m=\u001b[0m\u001b[1;34m\"교통량\"\u001b[0m\u001b[1;33m,\u001b[0m \u001b[0mhue\u001b[0m\u001b[1;33m=\u001b[0m\u001b[1;34m\"특수일구분명\"\u001b[0m\u001b[1;33m,\u001b[0m \u001b[0mci\u001b[0m\u001b[1;33m=\u001b[0m\u001b[1;32mNone\u001b[0m\u001b[1;33m)\u001b[0m\u001b[1;33m\u001b[0m\u001b[1;33m\u001b[0m\u001b[0m\n\u001b[0m",
      "\u001b[1;32m~\\Anaconda3\\lib\\site-packages\\seaborn\\_decorators.py\u001b[0m in \u001b[0;36minner_f\u001b[1;34m(*args, **kwargs)\u001b[0m\n\u001b[0;32m     44\u001b[0m             )\n\u001b[0;32m     45\u001b[0m         \u001b[0mkwargs\u001b[0m\u001b[1;33m.\u001b[0m\u001b[0mupdate\u001b[0m\u001b[1;33m(\u001b[0m\u001b[1;33m{\u001b[0m\u001b[0mk\u001b[0m\u001b[1;33m:\u001b[0m \u001b[0marg\u001b[0m \u001b[1;32mfor\u001b[0m \u001b[0mk\u001b[0m\u001b[1;33m,\u001b[0m \u001b[0marg\u001b[0m \u001b[1;32min\u001b[0m \u001b[0mzip\u001b[0m\u001b[1;33m(\u001b[0m\u001b[0msig\u001b[0m\u001b[1;33m.\u001b[0m\u001b[0mparameters\u001b[0m\u001b[1;33m,\u001b[0m \u001b[0margs\u001b[0m\u001b[1;33m)\u001b[0m\u001b[1;33m}\u001b[0m\u001b[1;33m)\u001b[0m\u001b[1;33m\u001b[0m\u001b[1;33m\u001b[0m\u001b[0m\n\u001b[1;32m---> 46\u001b[1;33m         \u001b[1;32mreturn\u001b[0m \u001b[0mf\u001b[0m\u001b[1;33m(\u001b[0m\u001b[1;33m**\u001b[0m\u001b[0mkwargs\u001b[0m\u001b[1;33m)\u001b[0m\u001b[1;33m\u001b[0m\u001b[1;33m\u001b[0m\u001b[0m\n\u001b[0m\u001b[0;32m     47\u001b[0m     \u001b[1;32mreturn\u001b[0m \u001b[0minner_f\u001b[0m\u001b[1;33m\u001b[0m\u001b[1;33m\u001b[0m\u001b[0m\n\u001b[0;32m     48\u001b[0m \u001b[1;33m\u001b[0m\u001b[0m\n",
      "\u001b[1;32m~\\Anaconda3\\lib\\site-packages\\seaborn\\categorical.py\u001b[0m in \u001b[0;36mpointplot\u001b[1;34m(x, y, hue, data, order, hue_order, estimator, ci, n_boot, units, seed, markers, linestyles, dodge, join, scale, orient, color, palette, errwidth, capsize, ax, **kwargs)\u001b[0m\n\u001b[0;32m   3373\u001b[0m                             \u001b[0mestimator\u001b[0m\u001b[1;33m,\u001b[0m \u001b[0mci\u001b[0m\u001b[1;33m,\u001b[0m \u001b[0mn_boot\u001b[0m\u001b[1;33m,\u001b[0m \u001b[0munits\u001b[0m\u001b[1;33m,\u001b[0m \u001b[0mseed\u001b[0m\u001b[1;33m,\u001b[0m\u001b[1;33m\u001b[0m\u001b[1;33m\u001b[0m\u001b[0m\n\u001b[0;32m   3374\u001b[0m                             \u001b[0mmarkers\u001b[0m\u001b[1;33m,\u001b[0m \u001b[0mlinestyles\u001b[0m\u001b[1;33m,\u001b[0m \u001b[0mdodge\u001b[0m\u001b[1;33m,\u001b[0m \u001b[0mjoin\u001b[0m\u001b[1;33m,\u001b[0m \u001b[0mscale\u001b[0m\u001b[1;33m,\u001b[0m\u001b[1;33m\u001b[0m\u001b[1;33m\u001b[0m\u001b[0m\n\u001b[1;32m-> 3375\u001b[1;33m                             orient, color, palette, errwidth, capsize)\n\u001b[0m\u001b[0;32m   3376\u001b[0m \u001b[1;33m\u001b[0m\u001b[0m\n\u001b[0;32m   3377\u001b[0m     \u001b[1;32mif\u001b[0m \u001b[0max\u001b[0m \u001b[1;32mis\u001b[0m \u001b[1;32mNone\u001b[0m\u001b[1;33m:\u001b[0m\u001b[1;33m\u001b[0m\u001b[1;33m\u001b[0m\u001b[0m\n",
      "\u001b[1;32m~\\Anaconda3\\lib\\site-packages\\seaborn\\categorical.py\u001b[0m in \u001b[0;36m__init__\u001b[1;34m(self, x, y, hue, data, order, hue_order, estimator, ci, n_boot, units, seed, markers, linestyles, dodge, join, scale, orient, color, palette, errwidth, capsize)\u001b[0m\n\u001b[0;32m   1654\u001b[0m         \u001b[1;34m\"\"\"Initialize the plotter.\"\"\"\u001b[0m\u001b[1;33m\u001b[0m\u001b[1;33m\u001b[0m\u001b[0m\n\u001b[0;32m   1655\u001b[0m         self.establish_variables(x, y, hue, data, orient,\n\u001b[1;32m-> 1656\u001b[1;33m                                  order, hue_order, units)\n\u001b[0m\u001b[0;32m   1657\u001b[0m         \u001b[0mself\u001b[0m\u001b[1;33m.\u001b[0m\u001b[0mestablish_colors\u001b[0m\u001b[1;33m(\u001b[0m\u001b[0mcolor\u001b[0m\u001b[1;33m,\u001b[0m \u001b[0mpalette\u001b[0m\u001b[1;33m,\u001b[0m \u001b[1;36m1\u001b[0m\u001b[1;33m)\u001b[0m\u001b[1;33m\u001b[0m\u001b[1;33m\u001b[0m\u001b[0m\n\u001b[0;32m   1658\u001b[0m         \u001b[0mself\u001b[0m\u001b[1;33m.\u001b[0m\u001b[0mestimate_statistic\u001b[0m\u001b[1;33m(\u001b[0m\u001b[0mestimator\u001b[0m\u001b[1;33m,\u001b[0m \u001b[0mci\u001b[0m\u001b[1;33m,\u001b[0m \u001b[0mn_boot\u001b[0m\u001b[1;33m,\u001b[0m \u001b[0mseed\u001b[0m\u001b[1;33m)\u001b[0m\u001b[1;33m\u001b[0m\u001b[1;33m\u001b[0m\u001b[0m\n",
      "\u001b[1;32m~\\Anaconda3\\lib\\site-packages\\seaborn\\categorical.py\u001b[0m in \u001b[0;36mestablish_variables\u001b[1;34m(self, x, y, hue, data, orient, order, hue_order, units)\u001b[0m\n\u001b[0;32m    151\u001b[0m                 \u001b[1;32mif\u001b[0m \u001b[0misinstance\u001b[0m\u001b[1;33m(\u001b[0m\u001b[0mvar\u001b[0m\u001b[1;33m,\u001b[0m \u001b[0mstr\u001b[0m\u001b[1;33m)\u001b[0m\u001b[1;33m:\u001b[0m\u001b[1;33m\u001b[0m\u001b[1;33m\u001b[0m\u001b[0m\n\u001b[0;32m    152\u001b[0m                     \u001b[0merr\u001b[0m \u001b[1;33m=\u001b[0m \u001b[1;34m\"Could not interpret input '{}'\"\u001b[0m\u001b[1;33m.\u001b[0m\u001b[0mformat\u001b[0m\u001b[1;33m(\u001b[0m\u001b[0mvar\u001b[0m\u001b[1;33m)\u001b[0m\u001b[1;33m\u001b[0m\u001b[1;33m\u001b[0m\u001b[0m\n\u001b[1;32m--> 153\u001b[1;33m                     \u001b[1;32mraise\u001b[0m \u001b[0mValueError\u001b[0m\u001b[1;33m(\u001b[0m\u001b[0merr\u001b[0m\u001b[1;33m)\u001b[0m\u001b[1;33m\u001b[0m\u001b[1;33m\u001b[0m\u001b[0m\n\u001b[0m\u001b[0;32m    154\u001b[0m \u001b[1;33m\u001b[0m\u001b[0m\n\u001b[0;32m    155\u001b[0m             \u001b[1;31m# Figure out the plotting orientation\u001b[0m\u001b[1;33m\u001b[0m\u001b[1;33m\u001b[0m\u001b[1;33m\u001b[0m\u001b[0m\n",
      "\u001b[1;31mValueError\u001b[0m: Could not interpret input '특수일전후특송기간범위구분코드'"
     ]
    }
   ],
   "source": [
    "sns.pointplot(data=df.fillna(0), x=\"특수일전후특송기간범위구분코드\", y=\"교통량\", hue=\"특수일구분명\", ci=None)"
   ]
  }
 ],
 "metadata": {
  "kernelspec": {
   "display_name": "Python 3",
   "language": "python",
   "name": "python3"
  },
  "language_info": {
   "codemirror_mode": {
    "name": "ipython",
    "version": 3
   },
   "file_extension": ".py",
   "mimetype": "text/x-python",
   "name": "python",
   "nbconvert_exporter": "python",
   "pygments_lexer": "ipython3",
   "version": "3.7.9"
  }
 },
 "nbformat": 4,
 "nbformat_minor": 4
}
