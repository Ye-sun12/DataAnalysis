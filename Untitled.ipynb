{
 "cells": [
  {
   "cell_type": "code",
   "execution_count": 1,
   "metadata": {},
   "outputs": [],
   "source": [
    "#파일 읽어오기\n",
    "import pandas as pd\n",
    "\n",
    "data = pd.read_csv('Google-Playstore.csv')\n",
    "test = pd.read_csv('webapp_test_feature.csv')"
   ]
  },
  {
   "cell_type": "code",
   "execution_count": 2,
   "metadata": {},
   "outputs": [
    {
     "data": {
      "text/html": [
       "<div>\n",
       "<style scoped>\n",
       "    .dataframe tbody tr th:only-of-type {\n",
       "        vertical-align: middle;\n",
       "    }\n",
       "\n",
       "    .dataframe tbody tr th {\n",
       "        vertical-align: top;\n",
       "    }\n",
       "\n",
       "    .dataframe thead th {\n",
       "        text-align: right;\n",
       "    }\n",
       "</style>\n",
       "<table border=\"1\" class=\"dataframe\">\n",
       "  <thead>\n",
       "    <tr style=\"text-align: right;\">\n",
       "      <th></th>\n",
       "      <th>App Name</th>\n",
       "      <th>App Id</th>\n",
       "      <th>Category</th>\n",
       "      <th>Rating</th>\n",
       "      <th>Rating Count</th>\n",
       "      <th>Installs</th>\n",
       "      <th>Minimum Installs</th>\n",
       "      <th>Maximum Installs</th>\n",
       "      <th>Free</th>\n",
       "      <th>Price</th>\n",
       "      <th>...</th>\n",
       "      <th>Developer Id</th>\n",
       "      <th>Developer Website</th>\n",
       "      <th>Developer Email</th>\n",
       "      <th>Released</th>\n",
       "      <th>Last Updated</th>\n",
       "      <th>Content Rating</th>\n",
       "      <th>Privacy Policy</th>\n",
       "      <th>Ad Supported</th>\n",
       "      <th>In App Purchases</th>\n",
       "      <th>Editors Choice</th>\n",
       "    </tr>\n",
       "  </thead>\n",
       "  <tbody>\n",
       "    <tr>\n",
       "      <th>0</th>\n",
       "      <td>foodpanda - Local Food &amp; Grocery Delivery</td>\n",
       "      <td>com.global.foodpanda.android</td>\n",
       "      <td>Food &amp; Drink</td>\n",
       "      <td>4.4</td>\n",
       "      <td>1258493.0</td>\n",
       "      <td>10,000,000+</td>\n",
       "      <td>10000000.0</td>\n",
       "      <td>48828081</td>\n",
       "      <td>True</td>\n",
       "      <td>0.00</td>\n",
       "      <td>...</td>\n",
       "      <td>Foodpanda GmbH a subsidiary of Delivery Hero SE</td>\n",
       "      <td>http://foodpanda.com</td>\n",
       "      <td>appsupport@foodpanda.com</td>\n",
       "      <td>Nov 19, 2013</td>\n",
       "      <td>2020-07-07 00:14:05</td>\n",
       "      <td>Everyone</td>\n",
       "      <td>https://www.foodpanda.sg/contents/privacy.htm</td>\n",
       "      <td>False</td>\n",
       "      <td>False</td>\n",
       "      <td>False</td>\n",
       "    </tr>\n",
       "    <tr>\n",
       "      <th>1</th>\n",
       "      <td>Tripadvisor Hotel, Flight &amp; Restaurant Bookings</td>\n",
       "      <td>com.tripadvisor.tripadvisor</td>\n",
       "      <td>Travel &amp; Local</td>\n",
       "      <td>4.4</td>\n",
       "      <td>1360172.0</td>\n",
       "      <td>100,000,000+</td>\n",
       "      <td>100000000.0</td>\n",
       "      <td>371284181</td>\n",
       "      <td>True</td>\n",
       "      <td>0.00</td>\n",
       "      <td>...</td>\n",
       "      <td>Tripadvisor</td>\n",
       "      <td>https://www.tripadvisor.com/help</td>\n",
       "      <td>mobilehelp@tripadvisor.com</td>\n",
       "      <td>Jul 12, 2010</td>\n",
       "      <td>2020-07-02 20:10:48</td>\n",
       "      <td>Everyone</td>\n",
       "      <td>https://www.tripadvisor.com/pages/privacy.html</td>\n",
       "      <td>True</td>\n",
       "      <td>False</td>\n",
       "      <td>False</td>\n",
       "    </tr>\n",
       "    <tr>\n",
       "      <th>2</th>\n",
       "      <td>Safeway Delivery &amp; Pick Up</td>\n",
       "      <td>com.safeway.shop</td>\n",
       "      <td>Shopping</td>\n",
       "      <td>4.2</td>\n",
       "      <td>5532.0</td>\n",
       "      <td>500,000+</td>\n",
       "      <td>500000.0</td>\n",
       "      <td>816102</td>\n",
       "      <td>True</td>\n",
       "      <td>0.00</td>\n",
       "      <td>...</td>\n",
       "      <td>Albertsons Companies, Inc.</td>\n",
       "      <td>http://www.safeway.com</td>\n",
       "      <td>homeshopping@customerservice.safeway.com</td>\n",
       "      <td>Sep 5, 2013</td>\n",
       "      <td>2020-07-16 23:21:50</td>\n",
       "      <td>Everyone</td>\n",
       "      <td>http://www.safeway.com/ShopStores/Privacy-Poli...</td>\n",
       "      <td>False</td>\n",
       "      <td>False</td>\n",
       "      <td>False</td>\n",
       "    </tr>\n",
       "    <tr>\n",
       "      <th>3</th>\n",
       "      <td>My CookBook Ad-Free</td>\n",
       "      <td>fr.cookbookpro</td>\n",
       "      <td>Food &amp; Drink</td>\n",
       "      <td>4.7</td>\n",
       "      <td>2531.0</td>\n",
       "      <td>10,000+</td>\n",
       "      <td>10000.0</td>\n",
       "      <td>16171</td>\n",
       "      <td>False</td>\n",
       "      <td>5.99</td>\n",
       "      <td>...</td>\n",
       "      <td>Maadinfo Services</td>\n",
       "      <td>https://www.mycookbook-online.net</td>\n",
       "      <td>support@mycookbook-online.net</td>\n",
       "      <td>Sep 25, 2011</td>\n",
       "      <td>2020-07-07 12:41:28</td>\n",
       "      <td>Everyone</td>\n",
       "      <td>https://www.mycookbook-android.com/site/privac...</td>\n",
       "      <td>False</td>\n",
       "      <td>False</td>\n",
       "      <td>False</td>\n",
       "    </tr>\n",
       "    <tr>\n",
       "      <th>4</th>\n",
       "      <td>Talabat: Food &amp; Grocery Delivery</td>\n",
       "      <td>com.talabat</td>\n",
       "      <td>Food &amp; Drink</td>\n",
       "      <td>4.4</td>\n",
       "      <td>197649.0</td>\n",
       "      <td>5,000,000+</td>\n",
       "      <td>5000000.0</td>\n",
       "      <td>9218590</td>\n",
       "      <td>True</td>\n",
       "      <td>0.00</td>\n",
       "      <td>...</td>\n",
       "      <td>Talabat</td>\n",
       "      <td>http://www.talabat.com</td>\n",
       "      <td>info@talabat.com</td>\n",
       "      <td>Jan 19, 2012</td>\n",
       "      <td>2020-07-15 19:21:16</td>\n",
       "      <td>Mature 17+</td>\n",
       "      <td>https://www.talabat.com/kuwait/privacy</td>\n",
       "      <td>True</td>\n",
       "      <td>False</td>\n",
       "      <td>False</td>\n",
       "    </tr>\n",
       "  </tbody>\n",
       "</table>\n",
       "<p>5 rows × 23 columns</p>\n",
       "</div>"
      ],
      "text/plain": [
       "                                          App Name  \\\n",
       "0        foodpanda - Local Food & Grocery Delivery   \n",
       "1  Tripadvisor Hotel, Flight & Restaurant Bookings   \n",
       "2                       Safeway Delivery & Pick Up   \n",
       "3                              My CookBook Ad-Free   \n",
       "4                 Talabat: Food & Grocery Delivery   \n",
       "\n",
       "                         App Id        Category  Rating  Rating Count  \\\n",
       "0  com.global.foodpanda.android    Food & Drink     4.4     1258493.0   \n",
       "1   com.tripadvisor.tripadvisor  Travel & Local     4.4     1360172.0   \n",
       "2              com.safeway.shop        Shopping     4.2        5532.0   \n",
       "3                fr.cookbookpro    Food & Drink     4.7        2531.0   \n",
       "4                   com.talabat    Food & Drink     4.4      197649.0   \n",
       "\n",
       "       Installs  Minimum Installs  Maximum Installs   Free  Price  ...  \\\n",
       "0   10,000,000+        10000000.0          48828081   True   0.00  ...   \n",
       "1  100,000,000+       100000000.0         371284181   True   0.00  ...   \n",
       "2      500,000+          500000.0            816102   True   0.00  ...   \n",
       "3       10,000+           10000.0             16171  False   5.99  ...   \n",
       "4    5,000,000+         5000000.0           9218590   True   0.00  ...   \n",
       "\n",
       "                                      Developer Id  \\\n",
       "0  Foodpanda GmbH a subsidiary of Delivery Hero SE   \n",
       "1                                      Tripadvisor   \n",
       "2                       Albertsons Companies, Inc.   \n",
       "3                                Maadinfo Services   \n",
       "4                                          Talabat   \n",
       "\n",
       "                   Developer Website  \\\n",
       "0               http://foodpanda.com   \n",
       "1   https://www.tripadvisor.com/help   \n",
       "2             http://www.safeway.com   \n",
       "3  https://www.mycookbook-online.net   \n",
       "4             http://www.talabat.com   \n",
       "\n",
       "                            Developer Email      Released  \\\n",
       "0                  appsupport@foodpanda.com  Nov 19, 2013   \n",
       "1                mobilehelp@tripadvisor.com  Jul 12, 2010   \n",
       "2  homeshopping@customerservice.safeway.com   Sep 5, 2013   \n",
       "3             support@mycookbook-online.net  Sep 25, 2011   \n",
       "4                          info@talabat.com  Jan 19, 2012   \n",
       "\n",
       "          Last Updated Content Rating  \\\n",
       "0  2020-07-07 00:14:05       Everyone   \n",
       "1  2020-07-02 20:10:48       Everyone   \n",
       "2  2020-07-16 23:21:50       Everyone   \n",
       "3  2020-07-07 12:41:28       Everyone   \n",
       "4  2020-07-15 19:21:16     Mature 17+   \n",
       "\n",
       "                                      Privacy Policy Ad Supported  \\\n",
       "0      https://www.foodpanda.sg/contents/privacy.htm        False   \n",
       "1     https://www.tripadvisor.com/pages/privacy.html         True   \n",
       "2  http://www.safeway.com/ShopStores/Privacy-Poli...        False   \n",
       "3  https://www.mycookbook-android.com/site/privac...        False   \n",
       "4             https://www.talabat.com/kuwait/privacy         True   \n",
       "\n",
       "  In App Purchases Editors Choice  \n",
       "0            False          False  \n",
       "1            False          False  \n",
       "2            False          False  \n",
       "3            False          False  \n",
       "4            False          False  \n",
       "\n",
       "[5 rows x 23 columns]"
      ]
     },
     "execution_count": 2,
     "metadata": {},
     "output_type": "execute_result"
    }
   ],
   "source": [
    "#데이터 확인하기\n",
    "data.head()"
   ]
  },
  {
   "cell_type": "code",
   "execution_count": 2,
   "metadata": {
    "scrolled": true
   },
   "outputs": [
    {
     "name": "stdout",
     "output_type": "stream",
     "text": [
      "<class 'pandas.core.frame.DataFrame'>\n",
      "RangeIndex: 603047 entries, 0 to 603046\n",
      "Data columns (total 23 columns):\n",
      " #   Column             Non-Null Count   Dtype  \n",
      "---  ------             --------------   -----  \n",
      " 0   App Name           603046 non-null  object \n",
      " 1   App Id             603047 non-null  object \n",
      " 2   Category           603047 non-null  object \n",
      " 3   Rating             599287 non-null  float64\n",
      " 4   Rating Count       599287 non-null  float64\n",
      " 5   Installs           602875 non-null  object \n",
      " 6   Minimum Installs   602875 non-null  float64\n",
      " 7   Maximum Installs   603047 non-null  int64  \n",
      " 8   Free               603047 non-null  bool   \n",
      " 9   Price              603047 non-null  float64\n",
      " 10  Currency           602866 non-null  object \n",
      " 11  Size               603047 non-null  object \n",
      " 12  Minimum Android    602556 non-null  object \n",
      " 13  Developer Id       603045 non-null  object \n",
      " 14  Developer Website  423783 non-null  object \n",
      " 15  Developer Email    603010 non-null  object \n",
      " 16  Released           570769 non-null  object \n",
      " 17  Last Updated       603047 non-null  object \n",
      " 18  Content Rating     603047 non-null  object \n",
      " 19  Privacy Policy     517662 non-null  object \n",
      " 20  Ad Supported       603047 non-null  bool   \n",
      " 21  In App Purchases   603047 non-null  bool   \n",
      " 22  Editors Choice     603047 non-null  bool   \n",
      "dtypes: bool(4), float64(4), int64(1), object(14)\n",
      "memory usage: 89.7+ MB\n"
     ]
    }
   ],
   "source": [
    "data.info()"
   ]
  },
  {
   "cell_type": "code",
   "execution_count": 2,
   "metadata": {
    "scrolled": true
   },
   "outputs": [
    {
     "data": {
      "text/plain": [
       "App Name                  1\n",
       "App Id                    0\n",
       "Category                  0\n",
       "Rating                 3760\n",
       "Rating Count           3760\n",
       "Installs                172\n",
       "Minimum Installs        172\n",
       "Maximum Installs          0\n",
       "Free                      0\n",
       "Price                     0\n",
       "Currency                181\n",
       "Size                      0\n",
       "Minimum Android         491\n",
       "Developer Id              2\n",
       "Developer Website    179264\n",
       "Developer Email          37\n",
       "Released              32278\n",
       "Last Updated              0\n",
       "Content Rating            0\n",
       "Privacy Policy        85385\n",
       "Ad Supported              0\n",
       "In App Purchases          0\n",
       "Editors Choice            0\n",
       "dtype: int64"
      ]
     },
     "execution_count": 2,
     "metadata": {},
     "output_type": "execute_result"
    }
   ],
   "source": [
    "#결측치 확인하기\n",
    "data.isnull().sum()"
   ]
  },
  {
   "cell_type": "markdown",
   "metadata": {},
   "source": [
    "## Developer Id, Website, Email 열 삭제"
   ]
  },
  {
   "cell_type": "code",
   "execution_count": 2,
   "metadata": {},
   "outputs": [],
   "source": [
    "data.drop('Developer Id',axis=1,inplace=True)\n",
    "data.drop('Developer Website',axis=1,inplace=True)\n",
    "data.drop('Developer Email',axis=1,inplace=True)"
   ]
  },
  {
   "cell_type": "code",
   "execution_count": 3,
   "metadata": {},
   "outputs": [],
   "source": [
    "test.drop('Developer Id',axis=1,inplace=True)\n",
    "test.drop('Developer Website',axis=1,inplace=True)\n",
    "test.drop('Developer Email',axis=1,inplace=True)"
   ]
  },
  {
   "cell_type": "code",
   "execution_count": 6,
   "metadata": {},
   "outputs": [
    {
     "data": {
      "text/html": [
       "<div>\n",
       "<style scoped>\n",
       "    .dataframe tbody tr th:only-of-type {\n",
       "        vertical-align: middle;\n",
       "    }\n",
       "\n",
       "    .dataframe tbody tr th {\n",
       "        vertical-align: top;\n",
       "    }\n",
       "\n",
       "    .dataframe thead th {\n",
       "        text-align: right;\n",
       "    }\n",
       "</style>\n",
       "<table border=\"1\" class=\"dataframe\">\n",
       "  <thead>\n",
       "    <tr style=\"text-align: right;\">\n",
       "      <th></th>\n",
       "      <th>App Name</th>\n",
       "      <th>App Id</th>\n",
       "      <th>Category</th>\n",
       "      <th>Rating</th>\n",
       "      <th>Rating Count</th>\n",
       "      <th>Installs</th>\n",
       "      <th>Minimum Installs</th>\n",
       "      <th>Maximum Installs</th>\n",
       "      <th>Free</th>\n",
       "      <th>Price</th>\n",
       "      <th>Currency</th>\n",
       "      <th>Size</th>\n",
       "      <th>Minimum Android</th>\n",
       "      <th>Released</th>\n",
       "      <th>Last Updated</th>\n",
       "      <th>Content Rating</th>\n",
       "      <th>Privacy Policy</th>\n",
       "      <th>Ad Supported</th>\n",
       "      <th>In App Purchases</th>\n",
       "      <th>Editors Choice</th>\n",
       "    </tr>\n",
       "  </thead>\n",
       "  <tbody>\n",
       "    <tr>\n",
       "      <th>0</th>\n",
       "      <td>foodpanda - Local Food &amp; Grocery Delivery</td>\n",
       "      <td>com.global.foodpanda.android</td>\n",
       "      <td>Food &amp; Drink</td>\n",
       "      <td>4.4</td>\n",
       "      <td>1258493.0</td>\n",
       "      <td>10,000,000+</td>\n",
       "      <td>10000000.0</td>\n",
       "      <td>48828081</td>\n",
       "      <td>True</td>\n",
       "      <td>0.00</td>\n",
       "      <td>USD</td>\n",
       "      <td>21M</td>\n",
       "      <td>4.3 and up</td>\n",
       "      <td>Nov 19, 2013</td>\n",
       "      <td>2020-07-07 00:14:05</td>\n",
       "      <td>Everyone</td>\n",
       "      <td>https://www.foodpanda.sg/contents/privacy.htm</td>\n",
       "      <td>False</td>\n",
       "      <td>False</td>\n",
       "      <td>False</td>\n",
       "    </tr>\n",
       "    <tr>\n",
       "      <th>1</th>\n",
       "      <td>Tripadvisor Hotel, Flight &amp; Restaurant Bookings</td>\n",
       "      <td>com.tripadvisor.tripadvisor</td>\n",
       "      <td>Travel &amp; Local</td>\n",
       "      <td>4.4</td>\n",
       "      <td>1360172.0</td>\n",
       "      <td>100,000,000+</td>\n",
       "      <td>100000000.0</td>\n",
       "      <td>371284181</td>\n",
       "      <td>True</td>\n",
       "      <td>0.00</td>\n",
       "      <td>USD</td>\n",
       "      <td>Varies with device</td>\n",
       "      <td>Varies with device</td>\n",
       "      <td>Jul 12, 2010</td>\n",
       "      <td>2020-07-02 20:10:48</td>\n",
       "      <td>Everyone</td>\n",
       "      <td>https://www.tripadvisor.com/pages/privacy.html</td>\n",
       "      <td>True</td>\n",
       "      <td>False</td>\n",
       "      <td>False</td>\n",
       "    </tr>\n",
       "    <tr>\n",
       "      <th>2</th>\n",
       "      <td>Safeway Delivery &amp; Pick Up</td>\n",
       "      <td>com.safeway.shop</td>\n",
       "      <td>Shopping</td>\n",
       "      <td>4.2</td>\n",
       "      <td>5532.0</td>\n",
       "      <td>500,000+</td>\n",
       "      <td>500000.0</td>\n",
       "      <td>816102</td>\n",
       "      <td>True</td>\n",
       "      <td>0.00</td>\n",
       "      <td>USD</td>\n",
       "      <td>12M</td>\n",
       "      <td>7.0 and up</td>\n",
       "      <td>Sep 5, 2013</td>\n",
       "      <td>2020-07-16 23:21:50</td>\n",
       "      <td>Everyone</td>\n",
       "      <td>http://www.safeway.com/ShopStores/Privacy-Poli...</td>\n",
       "      <td>False</td>\n",
       "      <td>False</td>\n",
       "      <td>False</td>\n",
       "    </tr>\n",
       "    <tr>\n",
       "      <th>3</th>\n",
       "      <td>My CookBook Ad-Free</td>\n",
       "      <td>fr.cookbookpro</td>\n",
       "      <td>Food &amp; Drink</td>\n",
       "      <td>4.7</td>\n",
       "      <td>2531.0</td>\n",
       "      <td>10,000+</td>\n",
       "      <td>10000.0</td>\n",
       "      <td>16171</td>\n",
       "      <td>False</td>\n",
       "      <td>5.99</td>\n",
       "      <td>USD</td>\n",
       "      <td>Varies with device</td>\n",
       "      <td>Varies with device</td>\n",
       "      <td>Sep 25, 2011</td>\n",
       "      <td>2020-07-07 12:41:28</td>\n",
       "      <td>Everyone</td>\n",
       "      <td>https://www.mycookbook-android.com/site/privac...</td>\n",
       "      <td>False</td>\n",
       "      <td>False</td>\n",
       "      <td>False</td>\n",
       "    </tr>\n",
       "    <tr>\n",
       "      <th>4</th>\n",
       "      <td>Talabat: Food &amp; Grocery Delivery</td>\n",
       "      <td>com.talabat</td>\n",
       "      <td>Food &amp; Drink</td>\n",
       "      <td>4.4</td>\n",
       "      <td>197649.0</td>\n",
       "      <td>5,000,000+</td>\n",
       "      <td>5000000.0</td>\n",
       "      <td>9218590</td>\n",
       "      <td>True</td>\n",
       "      <td>0.00</td>\n",
       "      <td>USD</td>\n",
       "      <td>Varies with device</td>\n",
       "      <td>Varies with device</td>\n",
       "      <td>Jan 19, 2012</td>\n",
       "      <td>2020-07-15 19:21:16</td>\n",
       "      <td>Mature 17+</td>\n",
       "      <td>https://www.talabat.com/kuwait/privacy</td>\n",
       "      <td>True</td>\n",
       "      <td>False</td>\n",
       "      <td>False</td>\n",
       "    </tr>\n",
       "  </tbody>\n",
       "</table>\n",
       "</div>"
      ],
      "text/plain": [
       "                                          App Name  \\\n",
       "0        foodpanda - Local Food & Grocery Delivery   \n",
       "1  Tripadvisor Hotel, Flight & Restaurant Bookings   \n",
       "2                       Safeway Delivery & Pick Up   \n",
       "3                              My CookBook Ad-Free   \n",
       "4                 Talabat: Food & Grocery Delivery   \n",
       "\n",
       "                         App Id        Category  Rating  Rating Count  \\\n",
       "0  com.global.foodpanda.android    Food & Drink     4.4     1258493.0   \n",
       "1   com.tripadvisor.tripadvisor  Travel & Local     4.4     1360172.0   \n",
       "2              com.safeway.shop        Shopping     4.2        5532.0   \n",
       "3                fr.cookbookpro    Food & Drink     4.7        2531.0   \n",
       "4                   com.talabat    Food & Drink     4.4      197649.0   \n",
       "\n",
       "       Installs  Minimum Installs  Maximum Installs   Free  Price Currency  \\\n",
       "0   10,000,000+        10000000.0          48828081   True   0.00      USD   \n",
       "1  100,000,000+       100000000.0         371284181   True   0.00      USD   \n",
       "2      500,000+          500000.0            816102   True   0.00      USD   \n",
       "3       10,000+           10000.0             16171  False   5.99      USD   \n",
       "4    5,000,000+         5000000.0           9218590   True   0.00      USD   \n",
       "\n",
       "                 Size     Minimum Android      Released         Last Updated  \\\n",
       "0                 21M          4.3 and up  Nov 19, 2013  2020-07-07 00:14:05   \n",
       "1  Varies with device  Varies with device  Jul 12, 2010  2020-07-02 20:10:48   \n",
       "2                 12M          7.0 and up   Sep 5, 2013  2020-07-16 23:21:50   \n",
       "3  Varies with device  Varies with device  Sep 25, 2011  2020-07-07 12:41:28   \n",
       "4  Varies with device  Varies with device  Jan 19, 2012  2020-07-15 19:21:16   \n",
       "\n",
       "  Content Rating                                     Privacy Policy  \\\n",
       "0       Everyone      https://www.foodpanda.sg/contents/privacy.htm   \n",
       "1       Everyone     https://www.tripadvisor.com/pages/privacy.html   \n",
       "2       Everyone  http://www.safeway.com/ShopStores/Privacy-Poli...   \n",
       "3       Everyone  https://www.mycookbook-android.com/site/privac...   \n",
       "4     Mature 17+             https://www.talabat.com/kuwait/privacy   \n",
       "\n",
       "   Ad Supported  In App Purchases  Editors Choice  \n",
       "0         False             False           False  \n",
       "1          True             False           False  \n",
       "2         False             False           False  \n",
       "3         False             False           False  \n",
       "4          True             False           False  "
      ]
     },
     "execution_count": 6,
     "metadata": {},
     "output_type": "execute_result"
    }
   ],
   "source": [
    "data.head()"
   ]
  },
  {
   "cell_type": "markdown",
   "metadata": {},
   "source": [
    "## App Name"
   ]
  },
  {
   "cell_type": "code",
   "execution_count": 4,
   "metadata": {},
   "outputs": [],
   "source": [
    "#마지막 단어 추출하기\n",
    "data['Name']=data['App Name'].str.extract('([A-Za-z]+$)',expand=False)"
   ]
  },
  {
   "cell_type": "code",
   "execution_count": 6,
   "metadata": {
    "scrolled": true
   },
   "outputs": [
    {
     "data": {
      "text/plain": [
       "App           7055\n",
       "Theme         5096\n",
       "Wallpaper     4684\n",
       "Game          4177\n",
       "Pro           4020\n",
       "              ... \n",
       "TennisDraw       1\n",
       "llanmasi         1\n",
       "Almohana         1\n",
       "Renna            1\n",
       "Lamigo           1\n",
       "Name: Name, Length: 104876, dtype: int64"
      ]
     },
     "execution_count": 6,
     "metadata": {},
     "output_type": "execute_result"
    }
   ],
   "source": [
    "data['Name'].value_counts()\n",
    "#많이 나뉜다는 것을 알 수 있다."
   ]
  },
  {
   "cell_type": "code",
   "execution_count": 5,
   "metadata": {},
   "outputs": [],
   "source": [
    "#'Name', 'App name'열 삭제\n",
    "data.drop('Name',axis=1,inplace=True)\n",
    "data.drop('App Name',axis=1,inplace=True)"
   ]
  },
  {
   "cell_type": "code",
   "execution_count": 6,
   "metadata": {},
   "outputs": [],
   "source": [
    "#'Name', 'App name'열 삭제\n",
    "test.drop('App Name',axis=1,inplace=True)"
   ]
  },
  {
   "cell_type": "code",
   "execution_count": 10,
   "metadata": {
    "scrolled": true
   },
   "outputs": [
    {
     "data": {
      "text/html": [
       "<div>\n",
       "<style scoped>\n",
       "    .dataframe tbody tr th:only-of-type {\n",
       "        vertical-align: middle;\n",
       "    }\n",
       "\n",
       "    .dataframe tbody tr th {\n",
       "        vertical-align: top;\n",
       "    }\n",
       "\n",
       "    .dataframe thead th {\n",
       "        text-align: right;\n",
       "    }\n",
       "</style>\n",
       "<table border=\"1\" class=\"dataframe\">\n",
       "  <thead>\n",
       "    <tr style=\"text-align: right;\">\n",
       "      <th></th>\n",
       "      <th>App Id</th>\n",
       "      <th>Category</th>\n",
       "      <th>Rating</th>\n",
       "      <th>Rating Count</th>\n",
       "      <th>Installs</th>\n",
       "      <th>Minimum Installs</th>\n",
       "      <th>Maximum Installs</th>\n",
       "      <th>Free</th>\n",
       "      <th>Price</th>\n",
       "      <th>Currency</th>\n",
       "      <th>Size</th>\n",
       "      <th>Minimum Android</th>\n",
       "      <th>Released</th>\n",
       "      <th>Last Updated</th>\n",
       "      <th>Content Rating</th>\n",
       "      <th>Privacy Policy</th>\n",
       "      <th>Ad Supported</th>\n",
       "      <th>In App Purchases</th>\n",
       "      <th>Editors Choice</th>\n",
       "    </tr>\n",
       "  </thead>\n",
       "  <tbody>\n",
       "    <tr>\n",
       "      <th>0</th>\n",
       "      <td>com.global.foodpanda.android</td>\n",
       "      <td>Food &amp; Drink</td>\n",
       "      <td>4.4</td>\n",
       "      <td>1258493.0</td>\n",
       "      <td>10,000,000+</td>\n",
       "      <td>10000000.0</td>\n",
       "      <td>48828081</td>\n",
       "      <td>True</td>\n",
       "      <td>0.00</td>\n",
       "      <td>USD</td>\n",
       "      <td>21M</td>\n",
       "      <td>4.3 and up</td>\n",
       "      <td>Nov 19, 2013</td>\n",
       "      <td>2020-07-07 00:14:05</td>\n",
       "      <td>Everyone</td>\n",
       "      <td>https://www.foodpanda.sg/contents/privacy.htm</td>\n",
       "      <td>False</td>\n",
       "      <td>False</td>\n",
       "      <td>False</td>\n",
       "    </tr>\n",
       "    <tr>\n",
       "      <th>1</th>\n",
       "      <td>com.tripadvisor.tripadvisor</td>\n",
       "      <td>Travel &amp; Local</td>\n",
       "      <td>4.4</td>\n",
       "      <td>1360172.0</td>\n",
       "      <td>100,000,000+</td>\n",
       "      <td>100000000.0</td>\n",
       "      <td>371284181</td>\n",
       "      <td>True</td>\n",
       "      <td>0.00</td>\n",
       "      <td>USD</td>\n",
       "      <td>Varies with device</td>\n",
       "      <td>Varies with device</td>\n",
       "      <td>Jul 12, 2010</td>\n",
       "      <td>2020-07-02 20:10:48</td>\n",
       "      <td>Everyone</td>\n",
       "      <td>https://www.tripadvisor.com/pages/privacy.html</td>\n",
       "      <td>True</td>\n",
       "      <td>False</td>\n",
       "      <td>False</td>\n",
       "    </tr>\n",
       "    <tr>\n",
       "      <th>2</th>\n",
       "      <td>com.safeway.shop</td>\n",
       "      <td>Shopping</td>\n",
       "      <td>4.2</td>\n",
       "      <td>5532.0</td>\n",
       "      <td>500,000+</td>\n",
       "      <td>500000.0</td>\n",
       "      <td>816102</td>\n",
       "      <td>True</td>\n",
       "      <td>0.00</td>\n",
       "      <td>USD</td>\n",
       "      <td>12M</td>\n",
       "      <td>7.0 and up</td>\n",
       "      <td>Sep 5, 2013</td>\n",
       "      <td>2020-07-16 23:21:50</td>\n",
       "      <td>Everyone</td>\n",
       "      <td>http://www.safeway.com/ShopStores/Privacy-Poli...</td>\n",
       "      <td>False</td>\n",
       "      <td>False</td>\n",
       "      <td>False</td>\n",
       "    </tr>\n",
       "    <tr>\n",
       "      <th>3</th>\n",
       "      <td>fr.cookbookpro</td>\n",
       "      <td>Food &amp; Drink</td>\n",
       "      <td>4.7</td>\n",
       "      <td>2531.0</td>\n",
       "      <td>10,000+</td>\n",
       "      <td>10000.0</td>\n",
       "      <td>16171</td>\n",
       "      <td>False</td>\n",
       "      <td>5.99</td>\n",
       "      <td>USD</td>\n",
       "      <td>Varies with device</td>\n",
       "      <td>Varies with device</td>\n",
       "      <td>Sep 25, 2011</td>\n",
       "      <td>2020-07-07 12:41:28</td>\n",
       "      <td>Everyone</td>\n",
       "      <td>https://www.mycookbook-android.com/site/privac...</td>\n",
       "      <td>False</td>\n",
       "      <td>False</td>\n",
       "      <td>False</td>\n",
       "    </tr>\n",
       "    <tr>\n",
       "      <th>4</th>\n",
       "      <td>com.talabat</td>\n",
       "      <td>Food &amp; Drink</td>\n",
       "      <td>4.4</td>\n",
       "      <td>197649.0</td>\n",
       "      <td>5,000,000+</td>\n",
       "      <td>5000000.0</td>\n",
       "      <td>9218590</td>\n",
       "      <td>True</td>\n",
       "      <td>0.00</td>\n",
       "      <td>USD</td>\n",
       "      <td>Varies with device</td>\n",
       "      <td>Varies with device</td>\n",
       "      <td>Jan 19, 2012</td>\n",
       "      <td>2020-07-15 19:21:16</td>\n",
       "      <td>Mature 17+</td>\n",
       "      <td>https://www.talabat.com/kuwait/privacy</td>\n",
       "      <td>True</td>\n",
       "      <td>False</td>\n",
       "      <td>False</td>\n",
       "    </tr>\n",
       "  </tbody>\n",
       "</table>\n",
       "</div>"
      ],
      "text/plain": [
       "                         App Id        Category  Rating  Rating Count  \\\n",
       "0  com.global.foodpanda.android    Food & Drink     4.4     1258493.0   \n",
       "1   com.tripadvisor.tripadvisor  Travel & Local     4.4     1360172.0   \n",
       "2              com.safeway.shop        Shopping     4.2        5532.0   \n",
       "3                fr.cookbookpro    Food & Drink     4.7        2531.0   \n",
       "4                   com.talabat    Food & Drink     4.4      197649.0   \n",
       "\n",
       "       Installs  Minimum Installs  Maximum Installs   Free  Price Currency  \\\n",
       "0   10,000,000+        10000000.0          48828081   True   0.00      USD   \n",
       "1  100,000,000+       100000000.0         371284181   True   0.00      USD   \n",
       "2      500,000+          500000.0            816102   True   0.00      USD   \n",
       "3       10,000+           10000.0             16171  False   5.99      USD   \n",
       "4    5,000,000+         5000000.0           9218590   True   0.00      USD   \n",
       "\n",
       "                 Size     Minimum Android      Released         Last Updated  \\\n",
       "0                 21M          4.3 and up  Nov 19, 2013  2020-07-07 00:14:05   \n",
       "1  Varies with device  Varies with device  Jul 12, 2010  2020-07-02 20:10:48   \n",
       "2                 12M          7.0 and up   Sep 5, 2013  2020-07-16 23:21:50   \n",
       "3  Varies with device  Varies with device  Sep 25, 2011  2020-07-07 12:41:28   \n",
       "4  Varies with device  Varies with device  Jan 19, 2012  2020-07-15 19:21:16   \n",
       "\n",
       "  Content Rating                                     Privacy Policy  \\\n",
       "0       Everyone      https://www.foodpanda.sg/contents/privacy.htm   \n",
       "1       Everyone     https://www.tripadvisor.com/pages/privacy.html   \n",
       "2       Everyone  http://www.safeway.com/ShopStores/Privacy-Poli...   \n",
       "3       Everyone  https://www.mycookbook-android.com/site/privac...   \n",
       "4     Mature 17+             https://www.talabat.com/kuwait/privacy   \n",
       "\n",
       "   Ad Supported  In App Purchases  Editors Choice  \n",
       "0         False             False           False  \n",
       "1          True             False           False  \n",
       "2         False             False           False  \n",
       "3         False             False           False  \n",
       "4          True             False           False  "
      ]
     },
     "execution_count": 10,
     "metadata": {},
     "output_type": "execute_result"
    }
   ],
   "source": [
    "data.head()"
   ]
  },
  {
   "cell_type": "markdown",
   "metadata": {},
   "source": [
    "## App Id"
   ]
  },
  {
   "cell_type": "code",
   "execution_count": 7,
   "metadata": {},
   "outputs": [],
   "source": [
    "#가공하기 어렵다고 생각되어 삭제한다.\n",
    "data.drop('App Id',axis=1,inplace=True)\n",
    "test.drop('App Id',axis=1,inplace=True)"
   ]
  },
  {
   "cell_type": "code",
   "execution_count": 10,
   "metadata": {
    "scrolled": true
   },
   "outputs": [
    {
     "data": {
      "text/html": [
       "<div>\n",
       "<style scoped>\n",
       "    .dataframe tbody tr th:only-of-type {\n",
       "        vertical-align: middle;\n",
       "    }\n",
       "\n",
       "    .dataframe tbody tr th {\n",
       "        vertical-align: top;\n",
       "    }\n",
       "\n",
       "    .dataframe thead th {\n",
       "        text-align: right;\n",
       "    }\n",
       "</style>\n",
       "<table border=\"1\" class=\"dataframe\">\n",
       "  <thead>\n",
       "    <tr style=\"text-align: right;\">\n",
       "      <th></th>\n",
       "      <th>Category</th>\n",
       "      <th>Rating</th>\n",
       "      <th>Rating Count</th>\n",
       "      <th>Installs</th>\n",
       "      <th>Minimum Installs</th>\n",
       "      <th>Maximum Installs</th>\n",
       "      <th>Free</th>\n",
       "      <th>Price</th>\n",
       "      <th>Currency</th>\n",
       "      <th>Size</th>\n",
       "      <th>Minimum Android</th>\n",
       "      <th>Released</th>\n",
       "      <th>Last Updated</th>\n",
       "      <th>Content Rating</th>\n",
       "      <th>Privacy Policy</th>\n",
       "      <th>Ad Supported</th>\n",
       "      <th>In App Purchases</th>\n",
       "      <th>Editors Choice</th>\n",
       "    </tr>\n",
       "  </thead>\n",
       "  <tbody>\n",
       "    <tr>\n",
       "      <th>0</th>\n",
       "      <td>Food &amp; Drink</td>\n",
       "      <td>4.4</td>\n",
       "      <td>1258493.0</td>\n",
       "      <td>10,000,000+</td>\n",
       "      <td>10000000.0</td>\n",
       "      <td>48828081</td>\n",
       "      <td>True</td>\n",
       "      <td>0.00</td>\n",
       "      <td>USD</td>\n",
       "      <td>21M</td>\n",
       "      <td>4.3 and up</td>\n",
       "      <td>Nov 19, 2013</td>\n",
       "      <td>2020-07-07 00:14:05</td>\n",
       "      <td>Everyone</td>\n",
       "      <td>https://www.foodpanda.sg/contents/privacy.htm</td>\n",
       "      <td>False</td>\n",
       "      <td>False</td>\n",
       "      <td>False</td>\n",
       "    </tr>\n",
       "    <tr>\n",
       "      <th>1</th>\n",
       "      <td>Travel &amp; Local</td>\n",
       "      <td>4.4</td>\n",
       "      <td>1360172.0</td>\n",
       "      <td>100,000,000+</td>\n",
       "      <td>100000000.0</td>\n",
       "      <td>371284181</td>\n",
       "      <td>True</td>\n",
       "      <td>0.00</td>\n",
       "      <td>USD</td>\n",
       "      <td>Varies with device</td>\n",
       "      <td>Varies with device</td>\n",
       "      <td>Jul 12, 2010</td>\n",
       "      <td>2020-07-02 20:10:48</td>\n",
       "      <td>Everyone</td>\n",
       "      <td>https://www.tripadvisor.com/pages/privacy.html</td>\n",
       "      <td>True</td>\n",
       "      <td>False</td>\n",
       "      <td>False</td>\n",
       "    </tr>\n",
       "    <tr>\n",
       "      <th>2</th>\n",
       "      <td>Shopping</td>\n",
       "      <td>4.2</td>\n",
       "      <td>5532.0</td>\n",
       "      <td>500,000+</td>\n",
       "      <td>500000.0</td>\n",
       "      <td>816102</td>\n",
       "      <td>True</td>\n",
       "      <td>0.00</td>\n",
       "      <td>USD</td>\n",
       "      <td>12M</td>\n",
       "      <td>7.0 and up</td>\n",
       "      <td>Sep 5, 2013</td>\n",
       "      <td>2020-07-16 23:21:50</td>\n",
       "      <td>Everyone</td>\n",
       "      <td>http://www.safeway.com/ShopStores/Privacy-Poli...</td>\n",
       "      <td>False</td>\n",
       "      <td>False</td>\n",
       "      <td>False</td>\n",
       "    </tr>\n",
       "    <tr>\n",
       "      <th>3</th>\n",
       "      <td>Food &amp; Drink</td>\n",
       "      <td>4.7</td>\n",
       "      <td>2531.0</td>\n",
       "      <td>10,000+</td>\n",
       "      <td>10000.0</td>\n",
       "      <td>16171</td>\n",
       "      <td>False</td>\n",
       "      <td>5.99</td>\n",
       "      <td>USD</td>\n",
       "      <td>Varies with device</td>\n",
       "      <td>Varies with device</td>\n",
       "      <td>Sep 25, 2011</td>\n",
       "      <td>2020-07-07 12:41:28</td>\n",
       "      <td>Everyone</td>\n",
       "      <td>https://www.mycookbook-android.com/site/privac...</td>\n",
       "      <td>False</td>\n",
       "      <td>False</td>\n",
       "      <td>False</td>\n",
       "    </tr>\n",
       "    <tr>\n",
       "      <th>4</th>\n",
       "      <td>Food &amp; Drink</td>\n",
       "      <td>4.4</td>\n",
       "      <td>197649.0</td>\n",
       "      <td>5,000,000+</td>\n",
       "      <td>5000000.0</td>\n",
       "      <td>9218590</td>\n",
       "      <td>True</td>\n",
       "      <td>0.00</td>\n",
       "      <td>USD</td>\n",
       "      <td>Varies with device</td>\n",
       "      <td>Varies with device</td>\n",
       "      <td>Jan 19, 2012</td>\n",
       "      <td>2020-07-15 19:21:16</td>\n",
       "      <td>Mature 17+</td>\n",
       "      <td>https://www.talabat.com/kuwait/privacy</td>\n",
       "      <td>True</td>\n",
       "      <td>False</td>\n",
       "      <td>False</td>\n",
       "    </tr>\n",
       "  </tbody>\n",
       "</table>\n",
       "</div>"
      ],
      "text/plain": [
       "         Category  Rating  Rating Count      Installs  Minimum Installs  \\\n",
       "0    Food & Drink     4.4     1258493.0   10,000,000+        10000000.0   \n",
       "1  Travel & Local     4.4     1360172.0  100,000,000+       100000000.0   \n",
       "2        Shopping     4.2        5532.0      500,000+          500000.0   \n",
       "3    Food & Drink     4.7        2531.0       10,000+           10000.0   \n",
       "4    Food & Drink     4.4      197649.0    5,000,000+         5000000.0   \n",
       "\n",
       "   Maximum Installs   Free  Price Currency                Size  \\\n",
       "0          48828081   True   0.00      USD                 21M   \n",
       "1         371284181   True   0.00      USD  Varies with device   \n",
       "2            816102   True   0.00      USD                 12M   \n",
       "3             16171  False   5.99      USD  Varies with device   \n",
       "4           9218590   True   0.00      USD  Varies with device   \n",
       "\n",
       "      Minimum Android      Released         Last Updated Content Rating  \\\n",
       "0          4.3 and up  Nov 19, 2013  2020-07-07 00:14:05       Everyone   \n",
       "1  Varies with device  Jul 12, 2010  2020-07-02 20:10:48       Everyone   \n",
       "2          7.0 and up   Sep 5, 2013  2020-07-16 23:21:50       Everyone   \n",
       "3  Varies with device  Sep 25, 2011  2020-07-07 12:41:28       Everyone   \n",
       "4  Varies with device  Jan 19, 2012  2020-07-15 19:21:16     Mature 17+   \n",
       "\n",
       "                                      Privacy Policy  Ad Supported  \\\n",
       "0      https://www.foodpanda.sg/contents/privacy.htm         False   \n",
       "1     https://www.tripadvisor.com/pages/privacy.html          True   \n",
       "2  http://www.safeway.com/ShopStores/Privacy-Poli...         False   \n",
       "3  https://www.mycookbook-android.com/site/privac...         False   \n",
       "4             https://www.talabat.com/kuwait/privacy          True   \n",
       "\n",
       "   In App Purchases  Editors Choice  \n",
       "0             False           False  \n",
       "1             False           False  \n",
       "2             False           False  \n",
       "3             False           False  \n",
       "4             False           False  "
      ]
     },
     "execution_count": 10,
     "metadata": {},
     "output_type": "execute_result"
    }
   ],
   "source": [
    "data.head()"
   ]
  },
  {
   "cell_type": "markdown",
   "metadata": {},
   "source": [
    "## Category"
   ]
  },
  {
   "cell_type": "code",
   "execution_count": 8,
   "metadata": {},
   "outputs": [
    {
     "data": {
      "text/plain": [
       "Education                  76018\n",
       "Books & Reference          47443\n",
       "Music & Audio              40059\n",
       "Entertainment              39164\n",
       "Tools                      38754\n",
       "Lifestyle                  34421\n",
       "Business                   27862\n",
       "Personalization            27343\n",
       "Productivity               20230\n",
       "Health & Fitness           19413\n",
       "Finance                    19180\n",
       "Travel & Local             17054\n",
       "News & Magazines           15043\n",
       "Shopping                   14156\n",
       "Sports                     13408\n",
       "Food & Drink               12259\n",
       "Photography                11973\n",
       "Communication              11769\n",
       "Puzzle                     10982\n",
       "Social                      9265\n",
       "Maps & Navigation           8468\n",
       "Medical                     8365\n",
       "Casual                      7753\n",
       "Arcade                      6385\n",
       "Educational                 6046\n",
       "Simulation                  4970\n",
       "Auto & Vehicles             4641\n",
       "Action                      4390\n",
       "Video Players & Editors     4138\n",
       "Art & Design                3809\n",
       "Role Playing                3680\n",
       "Adventure                   3624\n",
       "Beauty                      2816\n",
       "Word                        2788\n",
       "Strategy                    2653\n",
       "Weather                     2555\n",
       "House & Home                2491\n",
       "Events                      2468\n",
       "Board                       2422\n",
       "Card                        2417\n",
       "Trivia                      2182\n",
       "Racing                      1908\n",
       "Libraries & Demo            1504\n",
       "Parenting                   1265\n",
       "Comics                      1028\n",
       "Casino                       909\n",
       "Dating                       854\n",
       "Music                        722\n",
       "Name: Category, dtype: int64"
      ]
     },
     "execution_count": 8,
     "metadata": {},
     "output_type": "execute_result"
    }
   ],
   "source": [
    "data['Category'].value_counts()"
   ]
  },
  {
   "cell_type": "code",
   "execution_count": 8,
   "metadata": {},
   "outputs": [],
   "source": [
    "#가공하기 어렵다고 생각되어 삭제한다.\n",
    "data.drop('Category',axis=1,inplace=True)\n",
    "test.drop('Category',axis=1,inplace=True)"
   ]
  },
  {
   "cell_type": "markdown",
   "metadata": {},
   "source": [
    "## Installs"
   ]
  },
  {
   "cell_type": "code",
   "execution_count": 13,
   "metadata": {},
   "outputs": [
    {
     "data": {
      "text/plain": [
       "10,000+           109335\n",
       "1,000+            106275\n",
       "100+               77177\n",
       "100,000+           59172\n",
       "5,000+             50315\n",
       "500+               40268\n",
       "50,000+            37678\n",
       "10+                35114\n",
       "50+                23629\n",
       "1,000,000+         20389\n",
       "500,000+           15365\n",
       "1+                  8100\n",
       "5+                  8082\n",
       "5,000,000+          4388\n",
       "10,000,000+         4332\n",
       "0+                  2168\n",
       "50,000,000+          598\n",
       "100,000,000+         388\n",
       "500,000,000+          48\n",
       "1,000,000,000+        41\n",
       "5,000,000,000+        13\n",
       "Name: Installs, dtype: int64"
      ]
     },
     "execution_count": 13,
     "metadata": {},
     "output_type": "execute_result"
    }
   ],
   "source": [
    "data['Installs'].value_counts()"
   ]
  },
  {
   "cell_type": "code",
   "execution_count": 12,
   "metadata": {},
   "outputs": [
    {
     "data": {
      "text/plain": [
       "172"
      ]
     },
     "execution_count": 12,
     "metadata": {},
     "output_type": "execute_result"
    }
   ],
   "source": [
    "data['Installs'].isnull().sum()"
   ]
  },
  {
   "cell_type": "code",
   "execution_count": 9,
   "metadata": {},
   "outputs": [
    {
     "data": {
      "text/plain": [
       "0"
      ]
     },
     "execution_count": 9,
     "metadata": {},
     "output_type": "execute_result"
    }
   ],
   "source": [
    "test['Installs'].isnull().sum()"
   ]
  },
  {
   "cell_type": "code",
   "execution_count": 9,
   "metadata": {},
   "outputs": [],
   "source": [
    "data['Installs'] = data['Installs'].fillna('0+')"
   ]
  },
  {
   "cell_type": "code",
   "execution_count": 10,
   "metadata": {},
   "outputs": [],
   "source": [
    "install_mapping = {'0+':0, '1+':0, '5+': 0, '10+':0, '50+':0,\n",
    "                   '100+':0, '500+':0, '1,000+': 1, '5,000+':1, \n",
    "                   '10,000+':2, '50,000+': 2,\n",
    "                   '100,000+': 3, '500,000+': 3, \n",
    "                   '1,000,000+':4, '5,000,000+':4,\n",
    "                   '10,000,000+':5, '50,000,000+':5, \n",
    "                   '100,000,000+':6, '500,000,000+':6,\n",
    "                   '1,000,000,000+':7, '5,000,000,000+':7}\n",
    "data['Installs'] = data['Installs'].map(install_mapping)"
   ]
  },
  {
   "cell_type": "code",
   "execution_count": 11,
   "metadata": {},
   "outputs": [],
   "source": [
    "install_mapping = {'0+':0, '1+':0, '5+': 0, '10+':0, '50+':0,\n",
    "                   '100+':0, '500+':0, '1,000+': 1, '5,000+':1, \n",
    "                   '10,000+':2, '50,000+': 2,\n",
    "                   '100,000+': 3, '500,000+': 3, \n",
    "                   '1,000,000+':4, '5,000,000+':4,\n",
    "                   '10,000,000+':5, '50,000,000+':5, \n",
    "                   '100,000,000+':6, '500,000,000+':6,\n",
    "                   '1,000,000,000+':7, '5,000,000,000+':7}\n",
    "test['Installs'] = test['Installs'].map(install_mapping)"
   ]
  },
  {
   "cell_type": "code",
   "execution_count": 12,
   "metadata": {},
   "outputs": [
    {
     "data": {
      "text/html": [
       "<div>\n",
       "<style scoped>\n",
       "    .dataframe tbody tr th:only-of-type {\n",
       "        vertical-align: middle;\n",
       "    }\n",
       "\n",
       "    .dataframe tbody tr th {\n",
       "        vertical-align: top;\n",
       "    }\n",
       "\n",
       "    .dataframe thead th {\n",
       "        text-align: right;\n",
       "    }\n",
       "</style>\n",
       "<table border=\"1\" class=\"dataframe\">\n",
       "  <thead>\n",
       "    <tr style=\"text-align: right;\">\n",
       "      <th></th>\n",
       "      <th>Rating</th>\n",
       "      <th>Rating Count</th>\n",
       "      <th>Installs</th>\n",
       "      <th>Minimum Installs</th>\n",
       "      <th>Maximum Installs</th>\n",
       "      <th>Free</th>\n",
       "      <th>Price</th>\n",
       "      <th>Currency</th>\n",
       "      <th>Size</th>\n",
       "      <th>Minimum Android</th>\n",
       "      <th>Released</th>\n",
       "      <th>Last Updated</th>\n",
       "      <th>Content Rating</th>\n",
       "      <th>Privacy Policy</th>\n",
       "      <th>Ad Supported</th>\n",
       "      <th>In App Purchases</th>\n",
       "      <th>Editors Choice</th>\n",
       "    </tr>\n",
       "  </thead>\n",
       "  <tbody>\n",
       "    <tr>\n",
       "      <th>0</th>\n",
       "      <td>4.4</td>\n",
       "      <td>1258493.0</td>\n",
       "      <td>5</td>\n",
       "      <td>10000000.0</td>\n",
       "      <td>48828081</td>\n",
       "      <td>True</td>\n",
       "      <td>0.00</td>\n",
       "      <td>USD</td>\n",
       "      <td>21M</td>\n",
       "      <td>4.3 and up</td>\n",
       "      <td>Nov 19, 2013</td>\n",
       "      <td>2020-07-07 00:14:05</td>\n",
       "      <td>Everyone</td>\n",
       "      <td>https://www.foodpanda.sg/contents/privacy.htm</td>\n",
       "      <td>False</td>\n",
       "      <td>False</td>\n",
       "      <td>False</td>\n",
       "    </tr>\n",
       "    <tr>\n",
       "      <th>1</th>\n",
       "      <td>4.4</td>\n",
       "      <td>1360172.0</td>\n",
       "      <td>6</td>\n",
       "      <td>100000000.0</td>\n",
       "      <td>371284181</td>\n",
       "      <td>True</td>\n",
       "      <td>0.00</td>\n",
       "      <td>USD</td>\n",
       "      <td>Varies with device</td>\n",
       "      <td>Varies with device</td>\n",
       "      <td>Jul 12, 2010</td>\n",
       "      <td>2020-07-02 20:10:48</td>\n",
       "      <td>Everyone</td>\n",
       "      <td>https://www.tripadvisor.com/pages/privacy.html</td>\n",
       "      <td>True</td>\n",
       "      <td>False</td>\n",
       "      <td>False</td>\n",
       "    </tr>\n",
       "    <tr>\n",
       "      <th>2</th>\n",
       "      <td>4.2</td>\n",
       "      <td>5532.0</td>\n",
       "      <td>3</td>\n",
       "      <td>500000.0</td>\n",
       "      <td>816102</td>\n",
       "      <td>True</td>\n",
       "      <td>0.00</td>\n",
       "      <td>USD</td>\n",
       "      <td>12M</td>\n",
       "      <td>7.0 and up</td>\n",
       "      <td>Sep 5, 2013</td>\n",
       "      <td>2020-07-16 23:21:50</td>\n",
       "      <td>Everyone</td>\n",
       "      <td>http://www.safeway.com/ShopStores/Privacy-Poli...</td>\n",
       "      <td>False</td>\n",
       "      <td>False</td>\n",
       "      <td>False</td>\n",
       "    </tr>\n",
       "    <tr>\n",
       "      <th>3</th>\n",
       "      <td>4.7</td>\n",
       "      <td>2531.0</td>\n",
       "      <td>2</td>\n",
       "      <td>10000.0</td>\n",
       "      <td>16171</td>\n",
       "      <td>False</td>\n",
       "      <td>5.99</td>\n",
       "      <td>USD</td>\n",
       "      <td>Varies with device</td>\n",
       "      <td>Varies with device</td>\n",
       "      <td>Sep 25, 2011</td>\n",
       "      <td>2020-07-07 12:41:28</td>\n",
       "      <td>Everyone</td>\n",
       "      <td>https://www.mycookbook-android.com/site/privac...</td>\n",
       "      <td>False</td>\n",
       "      <td>False</td>\n",
       "      <td>False</td>\n",
       "    </tr>\n",
       "    <tr>\n",
       "      <th>4</th>\n",
       "      <td>4.4</td>\n",
       "      <td>197649.0</td>\n",
       "      <td>4</td>\n",
       "      <td>5000000.0</td>\n",
       "      <td>9218590</td>\n",
       "      <td>True</td>\n",
       "      <td>0.00</td>\n",
       "      <td>USD</td>\n",
       "      <td>Varies with device</td>\n",
       "      <td>Varies with device</td>\n",
       "      <td>Jan 19, 2012</td>\n",
       "      <td>2020-07-15 19:21:16</td>\n",
       "      <td>Mature 17+</td>\n",
       "      <td>https://www.talabat.com/kuwait/privacy</td>\n",
       "      <td>True</td>\n",
       "      <td>False</td>\n",
       "      <td>False</td>\n",
       "    </tr>\n",
       "  </tbody>\n",
       "</table>\n",
       "</div>"
      ],
      "text/plain": [
       "   Rating  Rating Count  Installs  Minimum Installs  Maximum Installs   Free  \\\n",
       "0     4.4     1258493.0         5        10000000.0          48828081   True   \n",
       "1     4.4     1360172.0         6       100000000.0         371284181   True   \n",
       "2     4.2        5532.0         3          500000.0            816102   True   \n",
       "3     4.7        2531.0         2           10000.0             16171  False   \n",
       "4     4.4      197649.0         4         5000000.0           9218590   True   \n",
       "\n",
       "   Price Currency                Size     Minimum Android      Released  \\\n",
       "0   0.00      USD                 21M          4.3 and up  Nov 19, 2013   \n",
       "1   0.00      USD  Varies with device  Varies with device  Jul 12, 2010   \n",
       "2   0.00      USD                 12M          7.0 and up   Sep 5, 2013   \n",
       "3   5.99      USD  Varies with device  Varies with device  Sep 25, 2011   \n",
       "4   0.00      USD  Varies with device  Varies with device  Jan 19, 2012   \n",
       "\n",
       "          Last Updated Content Rating  \\\n",
       "0  2020-07-07 00:14:05       Everyone   \n",
       "1  2020-07-02 20:10:48       Everyone   \n",
       "2  2020-07-16 23:21:50       Everyone   \n",
       "3  2020-07-07 12:41:28       Everyone   \n",
       "4  2020-07-15 19:21:16     Mature 17+   \n",
       "\n",
       "                                      Privacy Policy  Ad Supported  \\\n",
       "0      https://www.foodpanda.sg/contents/privacy.htm         False   \n",
       "1     https://www.tripadvisor.com/pages/privacy.html          True   \n",
       "2  http://www.safeway.com/ShopStores/Privacy-Poli...         False   \n",
       "3  https://www.mycookbook-android.com/site/privac...         False   \n",
       "4             https://www.talabat.com/kuwait/privacy          True   \n",
       "\n",
       "   In App Purchases  Editors Choice  \n",
       "0             False           False  \n",
       "1             False           False  \n",
       "2             False           False  \n",
       "3             False           False  \n",
       "4             False           False  "
      ]
     },
     "execution_count": 12,
     "metadata": {},
     "output_type": "execute_result"
    }
   ],
   "source": [
    "data.head()"
   ]
  },
  {
   "cell_type": "markdown",
   "metadata": {},
   "source": [
    "## Rating"
   ]
  },
  {
   "cell_type": "code",
   "execution_count": 33,
   "metadata": {},
   "outputs": [
    {
     "data": {
      "text/plain": [
       "0.0    163968\n",
       "4.4     37451\n",
       "4.2     35326\n",
       "4.3     34947\n",
       "4.5     34594\n",
       "4.6     33765\n",
       "4.1     27874\n",
       "4.7     26260\n",
       "4.0     25071\n",
       "4.8     20941\n",
       "3.9     20312\n",
       "3.8     18998\n",
       "5.0     16573\n",
       "3.7     14385\n",
       "3.6     11639\n",
       "4.9     11447\n",
       "3.5     10383\n",
       "3.4      8752\n",
       "3.3      6903\n",
       "3.2      6740\n",
       "3.0      4903\n",
       "3.1      4671\n",
       "2.8      3466\n",
       "2.9      3356\n",
       "2.7      2588\n",
       "2.6      2486\n",
       "2.5      1823\n",
       "2.4      1638\n",
       "2.3      1448\n",
       "2.2      1371\n",
       "2.0       992\n",
       "2.1       991\n",
       "1.8       722\n",
       "1.9       690\n",
       "1.7       514\n",
       "1.6       396\n",
       "1.5       293\n",
       "1.4       223\n",
       "1.3       123\n",
       "1.0       122\n",
       "1.2       105\n",
       "1.1        37\n",
       "Name: Rating, dtype: int64"
      ]
     },
     "execution_count": 33,
     "metadata": {},
     "output_type": "execute_result"
    }
   ],
   "source": [
    "data['Rating'].value_counts()"
   ]
  },
  {
   "cell_type": "code",
   "execution_count": 14,
   "metadata": {},
   "outputs": [
    {
     "data": {
      "text/plain": [
       "3760"
      ]
     },
     "execution_count": 14,
     "metadata": {},
     "output_type": "execute_result"
    }
   ],
   "source": [
    "data['Rating'].isnull().sum()"
   ]
  },
  {
   "cell_type": "code",
   "execution_count": 12,
   "metadata": {
    "scrolled": false
   },
   "outputs": [],
   "source": [
    "data['Rating'].fillna(data.groupby('Installs')['Rating'].transform('median'), inplace=True)"
   ]
  },
  {
   "cell_type": "code",
   "execution_count": 17,
   "metadata": {},
   "outputs": [
    {
     "data": {
      "text/plain": [
       "0"
      ]
     },
     "execution_count": 17,
     "metadata": {},
     "output_type": "execute_result"
    }
   ],
   "source": [
    "data['Rating'].isnull().sum()"
   ]
  },
  {
   "cell_type": "code",
   "execution_count": 21,
   "metadata": {},
   "outputs": [
    {
     "name": "stdout",
     "output_type": "stream",
     "text": [
      "<class 'pandas.core.frame.DataFrame'>\n",
      "RangeIndex: 603047 entries, 0 to 603046\n",
      "Data columns (total 23 columns):\n",
      " #   Column             Non-Null Count   Dtype  \n",
      "---  ------             --------------   -----  \n",
      " 0   App Name           603046 non-null  object \n",
      " 1   App Id             603047 non-null  object \n",
      " 2   Category           603047 non-null  object \n",
      " 3   Rating             599287 non-null  float64\n",
      " 4   Rating Count       599287 non-null  float64\n",
      " 5   Installs           602875 non-null  object \n",
      " 6   Minimum Installs   602875 non-null  float64\n",
      " 7   Maximum Installs   603047 non-null  int64  \n",
      " 8   Free               603047 non-null  bool   \n",
      " 9   Price              603047 non-null  float64\n",
      " 10  Currency           602866 non-null  object \n",
      " 11  Size               603047 non-null  object \n",
      " 12  Minimum Android    602556 non-null  object \n",
      " 13  Developer Id       603045 non-null  object \n",
      " 14  Developer Website  423783 non-null  object \n",
      " 15  Developer Email    603010 non-null  object \n",
      " 16  Released           570769 non-null  object \n",
      " 17  Last Updated       603047 non-null  object \n",
      " 18  Content Rating     603047 non-null  object \n",
      " 19  Privacy Policy     517662 non-null  object \n",
      " 20  Ad Supported       603047 non-null  bool   \n",
      " 21  In App Purchases   603047 non-null  bool   \n",
      " 22  Editors Choice     603047 non-null  bool   \n",
      "dtypes: bool(4), float64(4), int64(1), object(14)\n",
      "memory usage: 89.7+ MB\n"
     ]
    }
   ],
   "source": [
    "data.info()"
   ]
  },
  {
   "cell_type": "code",
   "execution_count": 18,
   "metadata": {},
   "outputs": [
    {
     "data": {
      "text/html": [
       "<div>\n",
       "<style scoped>\n",
       "    .dataframe tbody tr th:only-of-type {\n",
       "        vertical-align: middle;\n",
       "    }\n",
       "\n",
       "    .dataframe tbody tr th {\n",
       "        vertical-align: top;\n",
       "    }\n",
       "\n",
       "    .dataframe thead th {\n",
       "        text-align: right;\n",
       "    }\n",
       "</style>\n",
       "<table border=\"1\" class=\"dataframe\">\n",
       "  <thead>\n",
       "    <tr style=\"text-align: right;\">\n",
       "      <th></th>\n",
       "      <th>Rating</th>\n",
       "      <th>Rating Count</th>\n",
       "      <th>Installs</th>\n",
       "      <th>Minimum Installs</th>\n",
       "      <th>Maximum Installs</th>\n",
       "      <th>Free</th>\n",
       "      <th>Price</th>\n",
       "      <th>Currency</th>\n",
       "      <th>Size</th>\n",
       "      <th>Minimum Android</th>\n",
       "      <th>Released</th>\n",
       "      <th>Last Updated</th>\n",
       "      <th>Content Rating</th>\n",
       "      <th>Privacy Policy</th>\n",
       "      <th>Ad Supported</th>\n",
       "      <th>In App Purchases</th>\n",
       "      <th>Editors Choice</th>\n",
       "    </tr>\n",
       "  </thead>\n",
       "  <tbody>\n",
       "    <tr>\n",
       "      <th>0</th>\n",
       "      <td>4.4</td>\n",
       "      <td>1258493.0</td>\n",
       "      <td>5</td>\n",
       "      <td>10000000.0</td>\n",
       "      <td>48828081</td>\n",
       "      <td>True</td>\n",
       "      <td>0.00</td>\n",
       "      <td>USD</td>\n",
       "      <td>21M</td>\n",
       "      <td>4.3 and up</td>\n",
       "      <td>Nov 19, 2013</td>\n",
       "      <td>2020-07-07 00:14:05</td>\n",
       "      <td>Everyone</td>\n",
       "      <td>https://www.foodpanda.sg/contents/privacy.htm</td>\n",
       "      <td>False</td>\n",
       "      <td>False</td>\n",
       "      <td>False</td>\n",
       "    </tr>\n",
       "    <tr>\n",
       "      <th>1</th>\n",
       "      <td>4.4</td>\n",
       "      <td>1360172.0</td>\n",
       "      <td>6</td>\n",
       "      <td>100000000.0</td>\n",
       "      <td>371284181</td>\n",
       "      <td>True</td>\n",
       "      <td>0.00</td>\n",
       "      <td>USD</td>\n",
       "      <td>Varies with device</td>\n",
       "      <td>Varies with device</td>\n",
       "      <td>Jul 12, 2010</td>\n",
       "      <td>2020-07-02 20:10:48</td>\n",
       "      <td>Everyone</td>\n",
       "      <td>https://www.tripadvisor.com/pages/privacy.html</td>\n",
       "      <td>True</td>\n",
       "      <td>False</td>\n",
       "      <td>False</td>\n",
       "    </tr>\n",
       "    <tr>\n",
       "      <th>2</th>\n",
       "      <td>4.2</td>\n",
       "      <td>5532.0</td>\n",
       "      <td>3</td>\n",
       "      <td>500000.0</td>\n",
       "      <td>816102</td>\n",
       "      <td>True</td>\n",
       "      <td>0.00</td>\n",
       "      <td>USD</td>\n",
       "      <td>12M</td>\n",
       "      <td>7.0 and up</td>\n",
       "      <td>Sep 5, 2013</td>\n",
       "      <td>2020-07-16 23:21:50</td>\n",
       "      <td>Everyone</td>\n",
       "      <td>http://www.safeway.com/ShopStores/Privacy-Poli...</td>\n",
       "      <td>False</td>\n",
       "      <td>False</td>\n",
       "      <td>False</td>\n",
       "    </tr>\n",
       "    <tr>\n",
       "      <th>3</th>\n",
       "      <td>4.7</td>\n",
       "      <td>2531.0</td>\n",
       "      <td>2</td>\n",
       "      <td>10000.0</td>\n",
       "      <td>16171</td>\n",
       "      <td>False</td>\n",
       "      <td>5.99</td>\n",
       "      <td>USD</td>\n",
       "      <td>Varies with device</td>\n",
       "      <td>Varies with device</td>\n",
       "      <td>Sep 25, 2011</td>\n",
       "      <td>2020-07-07 12:41:28</td>\n",
       "      <td>Everyone</td>\n",
       "      <td>https://www.mycookbook-android.com/site/privac...</td>\n",
       "      <td>False</td>\n",
       "      <td>False</td>\n",
       "      <td>False</td>\n",
       "    </tr>\n",
       "    <tr>\n",
       "      <th>4</th>\n",
       "      <td>4.4</td>\n",
       "      <td>197649.0</td>\n",
       "      <td>4</td>\n",
       "      <td>5000000.0</td>\n",
       "      <td>9218590</td>\n",
       "      <td>True</td>\n",
       "      <td>0.00</td>\n",
       "      <td>USD</td>\n",
       "      <td>Varies with device</td>\n",
       "      <td>Varies with device</td>\n",
       "      <td>Jan 19, 2012</td>\n",
       "      <td>2020-07-15 19:21:16</td>\n",
       "      <td>Mature 17+</td>\n",
       "      <td>https://www.talabat.com/kuwait/privacy</td>\n",
       "      <td>True</td>\n",
       "      <td>False</td>\n",
       "      <td>False</td>\n",
       "    </tr>\n",
       "  </tbody>\n",
       "</table>\n",
       "</div>"
      ],
      "text/plain": [
       "   Rating  Rating Count  Installs  Minimum Installs  Maximum Installs   Free  \\\n",
       "0     4.4     1258493.0         5        10000000.0          48828081   True   \n",
       "1     4.4     1360172.0         6       100000000.0         371284181   True   \n",
       "2     4.2        5532.0         3          500000.0            816102   True   \n",
       "3     4.7        2531.0         2           10000.0             16171  False   \n",
       "4     4.4      197649.0         4         5000000.0           9218590   True   \n",
       "\n",
       "   Price Currency                Size     Minimum Android      Released  \\\n",
       "0   0.00      USD                 21M          4.3 and up  Nov 19, 2013   \n",
       "1   0.00      USD  Varies with device  Varies with device  Jul 12, 2010   \n",
       "2   0.00      USD                 12M          7.0 and up   Sep 5, 2013   \n",
       "3   5.99      USD  Varies with device  Varies with device  Sep 25, 2011   \n",
       "4   0.00      USD  Varies with device  Varies with device  Jan 19, 2012   \n",
       "\n",
       "          Last Updated Content Rating  \\\n",
       "0  2020-07-07 00:14:05       Everyone   \n",
       "1  2020-07-02 20:10:48       Everyone   \n",
       "2  2020-07-16 23:21:50       Everyone   \n",
       "3  2020-07-07 12:41:28       Everyone   \n",
       "4  2020-07-15 19:21:16     Mature 17+   \n",
       "\n",
       "                                      Privacy Policy  Ad Supported  \\\n",
       "0      https://www.foodpanda.sg/contents/privacy.htm         False   \n",
       "1     https://www.tripadvisor.com/pages/privacy.html          True   \n",
       "2  http://www.safeway.com/ShopStores/Privacy-Poli...         False   \n",
       "3  https://www.mycookbook-android.com/site/privac...         False   \n",
       "4             https://www.talabat.com/kuwait/privacy          True   \n",
       "\n",
       "   In App Purchases  Editors Choice  \n",
       "0             False           False  \n",
       "1             False           False  \n",
       "2             False           False  \n",
       "3             False           False  \n",
       "4             False           False  "
      ]
     },
     "execution_count": 18,
     "metadata": {},
     "output_type": "execute_result"
    }
   ],
   "source": [
    "data.head()"
   ]
  },
  {
   "cell_type": "markdown",
   "metadata": {},
   "source": [
    "## Rating Count"
   ]
  },
  {
   "cell_type": "code",
   "execution_count": 13,
   "metadata": {
    "scrolled": true
   },
   "outputs": [
    {
     "data": {
      "text/plain": [
       "0.0         163968\n",
       "5.0          13357\n",
       "6.0          11494\n",
       "7.0           9960\n",
       "8.0           9041\n",
       "             ...  \n",
       "10960.0          1\n",
       "47377.0          1\n",
       "23931.0          1\n",
       "79970.0          1\n",
       "189536.0         1\n",
       "Name: Rating Count, Length: 31621, dtype: int64"
      ]
     },
     "execution_count": 13,
     "metadata": {},
     "output_type": "execute_result"
    }
   ],
   "source": [
    "data['Rating Count'].value_counts()"
   ]
  },
  {
   "cell_type": "code",
   "execution_count": 41,
   "metadata": {},
   "outputs": [
    {
     "data": {
      "text/plain": [
       "117019303.0"
      ]
     },
     "execution_count": 41,
     "metadata": {},
     "output_type": "execute_result"
    }
   ],
   "source": [
    "data['Rating Count'].max()"
   ]
  },
  {
   "cell_type": "code",
   "execution_count": 19,
   "metadata": {
    "scrolled": true
   },
   "outputs": [
    {
     "data": {
      "text/plain": [
       "3760"
      ]
     },
     "execution_count": 19,
     "metadata": {},
     "output_type": "execute_result"
    }
   ],
   "source": [
    "data['Rating Count'].isnull().sum()"
   ]
  },
  {
   "cell_type": "code",
   "execution_count": 14,
   "metadata": {},
   "outputs": [],
   "source": [
    "data['Rating Count'].fillna(data.groupby('Installs')['Rating Count'].transform('median'), inplace=True)"
   ]
  },
  {
   "cell_type": "code",
   "execution_count": 21,
   "metadata": {},
   "outputs": [
    {
     "data": {
      "text/plain": [
       "0"
      ]
     },
     "execution_count": 21,
     "metadata": {},
     "output_type": "execute_result"
    }
   ],
   "source": [
    "data['Rating Count'].isnull().sum()"
   ]
  },
  {
   "cell_type": "code",
   "execution_count": 15,
   "metadata": {},
   "outputs": [],
   "source": [
    "data.loc[data['Rating Count'] <= 10000, 'Rating Count']=0\n",
    "data.loc[(data['Rating Count'] > 10000) & (data['Rating Count'] <= 100000), 'Rating Count']=1\n",
    "data.loc[(data['Rating Count'] > 100000) & (data['Rating Count'] <= 1000000), 'Rating Count']=2\n",
    "data.loc[(data['Rating Count'] > 1000000) & (data['Rating Count'] <= 10000000), 'Rating Count']=3\n",
    "data.loc[data['Rating Count'] >100000000, 'Rating Count']=4"
   ]
  },
  {
   "cell_type": "code",
   "execution_count": 23,
   "metadata": {},
   "outputs": [
    {
     "data": {
      "text/html": [
       "<div>\n",
       "<style scoped>\n",
       "    .dataframe tbody tr th:only-of-type {\n",
       "        vertical-align: middle;\n",
       "    }\n",
       "\n",
       "    .dataframe tbody tr th {\n",
       "        vertical-align: top;\n",
       "    }\n",
       "\n",
       "    .dataframe thead th {\n",
       "        text-align: right;\n",
       "    }\n",
       "</style>\n",
       "<table border=\"1\" class=\"dataframe\">\n",
       "  <thead>\n",
       "    <tr style=\"text-align: right;\">\n",
       "      <th></th>\n",
       "      <th>Rating</th>\n",
       "      <th>Rating Count</th>\n",
       "      <th>Installs</th>\n",
       "      <th>Minimum Installs</th>\n",
       "      <th>Maximum Installs</th>\n",
       "      <th>Free</th>\n",
       "      <th>Price</th>\n",
       "      <th>Currency</th>\n",
       "      <th>Size</th>\n",
       "      <th>Minimum Android</th>\n",
       "      <th>Released</th>\n",
       "      <th>Last Updated</th>\n",
       "      <th>Content Rating</th>\n",
       "      <th>Privacy Policy</th>\n",
       "      <th>Ad Supported</th>\n",
       "      <th>In App Purchases</th>\n",
       "      <th>Editors Choice</th>\n",
       "    </tr>\n",
       "  </thead>\n",
       "  <tbody>\n",
       "    <tr>\n",
       "      <th>0</th>\n",
       "      <td>4.4</td>\n",
       "      <td>3.0</td>\n",
       "      <td>5</td>\n",
       "      <td>10000000.0</td>\n",
       "      <td>48828081</td>\n",
       "      <td>True</td>\n",
       "      <td>0.00</td>\n",
       "      <td>USD</td>\n",
       "      <td>21M</td>\n",
       "      <td>4.3 and up</td>\n",
       "      <td>Nov 19, 2013</td>\n",
       "      <td>2020-07-07 00:14:05</td>\n",
       "      <td>Everyone</td>\n",
       "      <td>https://www.foodpanda.sg/contents/privacy.htm</td>\n",
       "      <td>False</td>\n",
       "      <td>False</td>\n",
       "      <td>False</td>\n",
       "    </tr>\n",
       "    <tr>\n",
       "      <th>1</th>\n",
       "      <td>4.4</td>\n",
       "      <td>3.0</td>\n",
       "      <td>6</td>\n",
       "      <td>100000000.0</td>\n",
       "      <td>371284181</td>\n",
       "      <td>True</td>\n",
       "      <td>0.00</td>\n",
       "      <td>USD</td>\n",
       "      <td>Varies with device</td>\n",
       "      <td>Varies with device</td>\n",
       "      <td>Jul 12, 2010</td>\n",
       "      <td>2020-07-02 20:10:48</td>\n",
       "      <td>Everyone</td>\n",
       "      <td>https://www.tripadvisor.com/pages/privacy.html</td>\n",
       "      <td>True</td>\n",
       "      <td>False</td>\n",
       "      <td>False</td>\n",
       "    </tr>\n",
       "    <tr>\n",
       "      <th>2</th>\n",
       "      <td>4.2</td>\n",
       "      <td>0.0</td>\n",
       "      <td>3</td>\n",
       "      <td>500000.0</td>\n",
       "      <td>816102</td>\n",
       "      <td>True</td>\n",
       "      <td>0.00</td>\n",
       "      <td>USD</td>\n",
       "      <td>12M</td>\n",
       "      <td>7.0 and up</td>\n",
       "      <td>Sep 5, 2013</td>\n",
       "      <td>2020-07-16 23:21:50</td>\n",
       "      <td>Everyone</td>\n",
       "      <td>http://www.safeway.com/ShopStores/Privacy-Poli...</td>\n",
       "      <td>False</td>\n",
       "      <td>False</td>\n",
       "      <td>False</td>\n",
       "    </tr>\n",
       "    <tr>\n",
       "      <th>3</th>\n",
       "      <td>4.7</td>\n",
       "      <td>0.0</td>\n",
       "      <td>2</td>\n",
       "      <td>10000.0</td>\n",
       "      <td>16171</td>\n",
       "      <td>False</td>\n",
       "      <td>5.99</td>\n",
       "      <td>USD</td>\n",
       "      <td>Varies with device</td>\n",
       "      <td>Varies with device</td>\n",
       "      <td>Sep 25, 2011</td>\n",
       "      <td>2020-07-07 12:41:28</td>\n",
       "      <td>Everyone</td>\n",
       "      <td>https://www.mycookbook-android.com/site/privac...</td>\n",
       "      <td>False</td>\n",
       "      <td>False</td>\n",
       "      <td>False</td>\n",
       "    </tr>\n",
       "    <tr>\n",
       "      <th>4</th>\n",
       "      <td>4.4</td>\n",
       "      <td>2.0</td>\n",
       "      <td>4</td>\n",
       "      <td>5000000.0</td>\n",
       "      <td>9218590</td>\n",
       "      <td>True</td>\n",
       "      <td>0.00</td>\n",
       "      <td>USD</td>\n",
       "      <td>Varies with device</td>\n",
       "      <td>Varies with device</td>\n",
       "      <td>Jan 19, 2012</td>\n",
       "      <td>2020-07-15 19:21:16</td>\n",
       "      <td>Mature 17+</td>\n",
       "      <td>https://www.talabat.com/kuwait/privacy</td>\n",
       "      <td>True</td>\n",
       "      <td>False</td>\n",
       "      <td>False</td>\n",
       "    </tr>\n",
       "  </tbody>\n",
       "</table>\n",
       "</div>"
      ],
      "text/plain": [
       "   Rating  Rating Count  Installs  Minimum Installs  Maximum Installs   Free  \\\n",
       "0     4.4           3.0         5        10000000.0          48828081   True   \n",
       "1     4.4           3.0         6       100000000.0         371284181   True   \n",
       "2     4.2           0.0         3          500000.0            816102   True   \n",
       "3     4.7           0.0         2           10000.0             16171  False   \n",
       "4     4.4           2.0         4         5000000.0           9218590   True   \n",
       "\n",
       "   Price Currency                Size     Minimum Android      Released  \\\n",
       "0   0.00      USD                 21M          4.3 and up  Nov 19, 2013   \n",
       "1   0.00      USD  Varies with device  Varies with device  Jul 12, 2010   \n",
       "2   0.00      USD                 12M          7.0 and up   Sep 5, 2013   \n",
       "3   5.99      USD  Varies with device  Varies with device  Sep 25, 2011   \n",
       "4   0.00      USD  Varies with device  Varies with device  Jan 19, 2012   \n",
       "\n",
       "          Last Updated Content Rating  \\\n",
       "0  2020-07-07 00:14:05       Everyone   \n",
       "1  2020-07-02 20:10:48       Everyone   \n",
       "2  2020-07-16 23:21:50       Everyone   \n",
       "3  2020-07-07 12:41:28       Everyone   \n",
       "4  2020-07-15 19:21:16     Mature 17+   \n",
       "\n",
       "                                      Privacy Policy  Ad Supported  \\\n",
       "0      https://www.foodpanda.sg/contents/privacy.htm         False   \n",
       "1     https://www.tripadvisor.com/pages/privacy.html          True   \n",
       "2  http://www.safeway.com/ShopStores/Privacy-Poli...         False   \n",
       "3  https://www.mycookbook-android.com/site/privac...         False   \n",
       "4             https://www.talabat.com/kuwait/privacy          True   \n",
       "\n",
       "   In App Purchases  Editors Choice  \n",
       "0             False           False  \n",
       "1             False           False  \n",
       "2             False           False  \n",
       "3             False           False  \n",
       "4             False           False  "
      ]
     },
     "execution_count": 23,
     "metadata": {},
     "output_type": "execute_result"
    }
   ],
   "source": [
    "data.head()"
   ]
  },
  {
   "cell_type": "code",
   "execution_count": 25,
   "metadata": {},
   "outputs": [
    {
     "data": {
      "text/plain": [
       "0"
      ]
     },
     "execution_count": 25,
     "metadata": {},
     "output_type": "execute_result"
    }
   ],
   "source": [
    "test['Rating Count'].isnull().sum()"
   ]
  },
  {
   "cell_type": "code",
   "execution_count": 16,
   "metadata": {},
   "outputs": [],
   "source": [
    "test.loc[test['Rating Count'] <= 10000, 'Rating Count']=0\n",
    "test.loc[(test['Rating Count'] > 10000) & (test['Rating Count'] <= 100000), 'Rating Count']=1\n",
    "test.loc[(test['Rating Count'] > 100000) & (test['Rating Count'] <= 1000000), 'Rating Count']=2\n",
    "test.loc[(test['Rating Count'] > 1000000) & (test['Rating Count'] <= 10000000), 'Rating Count']=3\n",
    "test.loc[test['Rating Count'] >100000000, 'Rating Count']=4"
   ]
  },
  {
   "cell_type": "code",
   "execution_count": 25,
   "metadata": {},
   "outputs": [
    {
     "data": {
      "text/html": [
       "<div>\n",
       "<style scoped>\n",
       "    .dataframe tbody tr th:only-of-type {\n",
       "        vertical-align: middle;\n",
       "    }\n",
       "\n",
       "    .dataframe tbody tr th {\n",
       "        vertical-align: top;\n",
       "    }\n",
       "\n",
       "    .dataframe thead th {\n",
       "        text-align: right;\n",
       "    }\n",
       "</style>\n",
       "<table border=\"1\" class=\"dataframe\">\n",
       "  <thead>\n",
       "    <tr style=\"text-align: right;\">\n",
       "      <th></th>\n",
       "      <th>Rating Count</th>\n",
       "      <th>Installs</th>\n",
       "      <th>Minimum Installs</th>\n",
       "      <th>Maximum Installs</th>\n",
       "      <th>Free</th>\n",
       "      <th>Price</th>\n",
       "      <th>Currency</th>\n",
       "      <th>Size</th>\n",
       "      <th>Minimum Android</th>\n",
       "      <th>Released</th>\n",
       "      <th>Last Updated</th>\n",
       "      <th>Content Rating</th>\n",
       "      <th>Privacy Policy</th>\n",
       "      <th>Ad Supported</th>\n",
       "      <th>In App Purchases</th>\n",
       "      <th>Editors Choice</th>\n",
       "    </tr>\n",
       "  </thead>\n",
       "  <tbody>\n",
       "    <tr>\n",
       "      <th>0</th>\n",
       "      <td>1.0</td>\n",
       "      <td>4</td>\n",
       "      <td>5000000.0</td>\n",
       "      <td>7209120</td>\n",
       "      <td>True</td>\n",
       "      <td>0.0</td>\n",
       "      <td>USD</td>\n",
       "      <td>18M</td>\n",
       "      <td>4.1 and up</td>\n",
       "      <td>Nov 10, 2013</td>\n",
       "      <td>2020-03-21 18:49:16</td>\n",
       "      <td>Everyone</td>\n",
       "      <td>http://www.codekonditor.com/privacy/</td>\n",
       "      <td>False</td>\n",
       "      <td>False</td>\n",
       "      <td>False</td>\n",
       "    </tr>\n",
       "    <tr>\n",
       "      <th>1</th>\n",
       "      <td>0.0</td>\n",
       "      <td>2</td>\n",
       "      <td>10000.0</td>\n",
       "      <td>36956</td>\n",
       "      <td>True</td>\n",
       "      <td>0.0</td>\n",
       "      <td>USD</td>\n",
       "      <td>83M</td>\n",
       "      <td>6.0 and up</td>\n",
       "      <td>Oct 5, 2016</td>\n",
       "      <td>2020-07-10 20:59:19</td>\n",
       "      <td>Everyone</td>\n",
       "      <td>https://takelessons.com/privacy</td>\n",
       "      <td>False</td>\n",
       "      <td>False</td>\n",
       "      <td>False</td>\n",
       "    </tr>\n",
       "    <tr>\n",
       "      <th>2</th>\n",
       "      <td>0.0</td>\n",
       "      <td>1</td>\n",
       "      <td>1000.0</td>\n",
       "      <td>1251</td>\n",
       "      <td>True</td>\n",
       "      <td>0.0</td>\n",
       "      <td>USD</td>\n",
       "      <td>58M</td>\n",
       "      <td>4.1 and up</td>\n",
       "      <td>Apr 30, 2020</td>\n",
       "      <td>2020-05-01 16:59:24</td>\n",
       "      <td>Teen</td>\n",
       "      <td>https://justpaste.it/27fzs</td>\n",
       "      <td>True</td>\n",
       "      <td>False</td>\n",
       "      <td>False</td>\n",
       "    </tr>\n",
       "    <tr>\n",
       "      <th>3</th>\n",
       "      <td>0.0</td>\n",
       "      <td>1</td>\n",
       "      <td>1000.0</td>\n",
       "      <td>1163</td>\n",
       "      <td>True</td>\n",
       "      <td>0.0</td>\n",
       "      <td>USD</td>\n",
       "      <td>13M</td>\n",
       "      <td>4.2 and up</td>\n",
       "      <td>Mar 10, 2019</td>\n",
       "      <td>2019-03-11 13:58:28</td>\n",
       "      <td>Everyone</td>\n",
       "      <td>http://www.movinapp.com/apps-privacy-policy/</td>\n",
       "      <td>True</td>\n",
       "      <td>False</td>\n",
       "      <td>False</td>\n",
       "    </tr>\n",
       "    <tr>\n",
       "      <th>4</th>\n",
       "      <td>0.0</td>\n",
       "      <td>2</td>\n",
       "      <td>10000.0</td>\n",
       "      <td>41051</td>\n",
       "      <td>True</td>\n",
       "      <td>0.0</td>\n",
       "      <td>USD</td>\n",
       "      <td>11M</td>\n",
       "      <td>4.0.3 and up</td>\n",
       "      <td>Oct 22, 2018</td>\n",
       "      <td>2020-04-09 10:35:46</td>\n",
       "      <td>Teen</td>\n",
       "      <td>https://docs.google.com/document/d/e/2PACX-1vQ...</td>\n",
       "      <td>True</td>\n",
       "      <td>False</td>\n",
       "      <td>False</td>\n",
       "    </tr>\n",
       "  </tbody>\n",
       "</table>\n",
       "</div>"
      ],
      "text/plain": [
       "   Rating Count  Installs  Minimum Installs  Maximum Installs  Free  Price  \\\n",
       "0           1.0         4         5000000.0           7209120  True    0.0   \n",
       "1           0.0         2           10000.0             36956  True    0.0   \n",
       "2           0.0         1            1000.0              1251  True    0.0   \n",
       "3           0.0         1            1000.0              1163  True    0.0   \n",
       "4           0.0         2           10000.0             41051  True    0.0   \n",
       "\n",
       "  Currency Size Minimum Android      Released         Last Updated  \\\n",
       "0      USD  18M      4.1 and up  Nov 10, 2013  2020-03-21 18:49:16   \n",
       "1      USD  83M      6.0 and up   Oct 5, 2016  2020-07-10 20:59:19   \n",
       "2      USD  58M      4.1 and up  Apr 30, 2020  2020-05-01 16:59:24   \n",
       "3      USD  13M      4.2 and up  Mar 10, 2019  2019-03-11 13:58:28   \n",
       "4      USD  11M    4.0.3 and up  Oct 22, 2018  2020-04-09 10:35:46   \n",
       "\n",
       "  Content Rating                                     Privacy Policy  \\\n",
       "0       Everyone               http://www.codekonditor.com/privacy/   \n",
       "1       Everyone                    https://takelessons.com/privacy   \n",
       "2           Teen                         https://justpaste.it/27fzs   \n",
       "3       Everyone       http://www.movinapp.com/apps-privacy-policy/   \n",
       "4           Teen  https://docs.google.com/document/d/e/2PACX-1vQ...   \n",
       "\n",
       "   Ad Supported  In App Purchases  Editors Choice  \n",
       "0         False             False           False  \n",
       "1         False             False           False  \n",
       "2          True             False           False  \n",
       "3          True             False           False  \n",
       "4          True             False           False  "
      ]
     },
     "execution_count": 25,
     "metadata": {},
     "output_type": "execute_result"
    }
   ],
   "source": [
    "test.head()"
   ]
  },
  {
   "cell_type": "markdown",
   "metadata": {},
   "source": [
    "## Minimum/Maximum Installs"
   ]
  },
  {
   "cell_type": "code",
   "execution_count": 17,
   "metadata": {},
   "outputs": [],
   "source": [
    "data.drop('Minimum Installs',axis=1,inplace=True)\n",
    "data.drop('Maximum Installs',axis=1,inplace=True)"
   ]
  },
  {
   "cell_type": "code",
   "execution_count": 18,
   "metadata": {},
   "outputs": [],
   "source": [
    "test.drop('Minimum Installs',axis=1,inplace=True)\n",
    "test.drop('Maximum Installs',axis=1,inplace=True)"
   ]
  },
  {
   "cell_type": "code",
   "execution_count": 48,
   "metadata": {},
   "outputs": [
    {
     "data": {
      "text/html": [
       "<div>\n",
       "<style scoped>\n",
       "    .dataframe tbody tr th:only-of-type {\n",
       "        vertical-align: middle;\n",
       "    }\n",
       "\n",
       "    .dataframe tbody tr th {\n",
       "        vertical-align: top;\n",
       "    }\n",
       "\n",
       "    .dataframe thead th {\n",
       "        text-align: right;\n",
       "    }\n",
       "</style>\n",
       "<table border=\"1\" class=\"dataframe\">\n",
       "  <thead>\n",
       "    <tr style=\"text-align: right;\">\n",
       "      <th></th>\n",
       "      <th>Rating</th>\n",
       "      <th>Rating Count</th>\n",
       "      <th>Installs</th>\n",
       "      <th>Free</th>\n",
       "      <th>Price</th>\n",
       "      <th>Currency</th>\n",
       "      <th>Size</th>\n",
       "      <th>Minimum Android</th>\n",
       "      <th>Released</th>\n",
       "      <th>Last Updated</th>\n",
       "      <th>Content Rating</th>\n",
       "      <th>Privacy Policy</th>\n",
       "      <th>Ad Supported</th>\n",
       "      <th>In App Purchases</th>\n",
       "      <th>Editors Choice</th>\n",
       "    </tr>\n",
       "  </thead>\n",
       "  <tbody>\n",
       "    <tr>\n",
       "      <th>0</th>\n",
       "      <td>4.4</td>\n",
       "      <td>3.0</td>\n",
       "      <td>5</td>\n",
       "      <td>True</td>\n",
       "      <td>0.00</td>\n",
       "      <td>USD</td>\n",
       "      <td>21M</td>\n",
       "      <td>4.3 and up</td>\n",
       "      <td>Nov 19, 2013</td>\n",
       "      <td>2020-07-07 00:14:05</td>\n",
       "      <td>Everyone</td>\n",
       "      <td>https://www.foodpanda.sg/contents/privacy.htm</td>\n",
       "      <td>False</td>\n",
       "      <td>False</td>\n",
       "      <td>False</td>\n",
       "    </tr>\n",
       "    <tr>\n",
       "      <th>1</th>\n",
       "      <td>4.4</td>\n",
       "      <td>3.0</td>\n",
       "      <td>6</td>\n",
       "      <td>True</td>\n",
       "      <td>0.00</td>\n",
       "      <td>USD</td>\n",
       "      <td>Varies with device</td>\n",
       "      <td>Varies with device</td>\n",
       "      <td>Jul 12, 2010</td>\n",
       "      <td>2020-07-02 20:10:48</td>\n",
       "      <td>Everyone</td>\n",
       "      <td>https://www.tripadvisor.com/pages/privacy.html</td>\n",
       "      <td>True</td>\n",
       "      <td>False</td>\n",
       "      <td>False</td>\n",
       "    </tr>\n",
       "    <tr>\n",
       "      <th>2</th>\n",
       "      <td>4.2</td>\n",
       "      <td>0.0</td>\n",
       "      <td>3</td>\n",
       "      <td>True</td>\n",
       "      <td>0.00</td>\n",
       "      <td>USD</td>\n",
       "      <td>12M</td>\n",
       "      <td>7.0 and up</td>\n",
       "      <td>Sep 5, 2013</td>\n",
       "      <td>2020-07-16 23:21:50</td>\n",
       "      <td>Everyone</td>\n",
       "      <td>http://www.safeway.com/ShopStores/Privacy-Poli...</td>\n",
       "      <td>False</td>\n",
       "      <td>False</td>\n",
       "      <td>False</td>\n",
       "    </tr>\n",
       "    <tr>\n",
       "      <th>3</th>\n",
       "      <td>4.7</td>\n",
       "      <td>0.0</td>\n",
       "      <td>2</td>\n",
       "      <td>False</td>\n",
       "      <td>5.99</td>\n",
       "      <td>USD</td>\n",
       "      <td>Varies with device</td>\n",
       "      <td>Varies with device</td>\n",
       "      <td>Sep 25, 2011</td>\n",
       "      <td>2020-07-07 12:41:28</td>\n",
       "      <td>Everyone</td>\n",
       "      <td>https://www.mycookbook-android.com/site/privac...</td>\n",
       "      <td>False</td>\n",
       "      <td>False</td>\n",
       "      <td>False</td>\n",
       "    </tr>\n",
       "    <tr>\n",
       "      <th>4</th>\n",
       "      <td>4.4</td>\n",
       "      <td>2.0</td>\n",
       "      <td>4</td>\n",
       "      <td>True</td>\n",
       "      <td>0.00</td>\n",
       "      <td>USD</td>\n",
       "      <td>Varies with device</td>\n",
       "      <td>Varies with device</td>\n",
       "      <td>Jan 19, 2012</td>\n",
       "      <td>2020-07-15 19:21:16</td>\n",
       "      <td>Mature 17+</td>\n",
       "      <td>https://www.talabat.com/kuwait/privacy</td>\n",
       "      <td>True</td>\n",
       "      <td>False</td>\n",
       "      <td>False</td>\n",
       "    </tr>\n",
       "  </tbody>\n",
       "</table>\n",
       "</div>"
      ],
      "text/plain": [
       "   Rating  Rating Count  Installs   Free  Price Currency                Size  \\\n",
       "0     4.4           3.0         5   True   0.00      USD                 21M   \n",
       "1     4.4           3.0         6   True   0.00      USD  Varies with device   \n",
       "2     4.2           0.0         3   True   0.00      USD                 12M   \n",
       "3     4.7           0.0         2  False   5.99      USD  Varies with device   \n",
       "4     4.4           2.0         4   True   0.00      USD  Varies with device   \n",
       "\n",
       "      Minimum Android      Released         Last Updated Content Rating  \\\n",
       "0          4.3 and up  Nov 19, 2013  2020-07-07 00:14:05       Everyone   \n",
       "1  Varies with device  Jul 12, 2010  2020-07-02 20:10:48       Everyone   \n",
       "2          7.0 and up   Sep 5, 2013  2020-07-16 23:21:50       Everyone   \n",
       "3  Varies with device  Sep 25, 2011  2020-07-07 12:41:28       Everyone   \n",
       "4  Varies with device  Jan 19, 2012  2020-07-15 19:21:16     Mature 17+   \n",
       "\n",
       "                                      Privacy Policy  Ad Supported  \\\n",
       "0      https://www.foodpanda.sg/contents/privacy.htm         False   \n",
       "1     https://www.tripadvisor.com/pages/privacy.html          True   \n",
       "2  http://www.safeway.com/ShopStores/Privacy-Poli...         False   \n",
       "3  https://www.mycookbook-android.com/site/privac...         False   \n",
       "4             https://www.talabat.com/kuwait/privacy          True   \n",
       "\n",
       "   In App Purchases  Editors Choice  \n",
       "0             False           False  \n",
       "1             False           False  \n",
       "2             False           False  \n",
       "3             False           False  \n",
       "4             False           False  "
      ]
     },
     "execution_count": 48,
     "metadata": {},
     "output_type": "execute_result"
    }
   ],
   "source": [
    "data.head()"
   ]
  },
  {
   "cell_type": "markdown",
   "metadata": {},
   "source": [
    "## Minimum Android/Released/Last Updated"
   ]
  },
  {
   "cell_type": "code",
   "execution_count": 19,
   "metadata": {},
   "outputs": [],
   "source": [
    "data.drop('Minimum Android',axis=1,inplace=True)\n",
    "data.drop('Released',axis=1,inplace=True)\n",
    "data.drop('Last Updated',axis=1,inplace=True)"
   ]
  },
  {
   "cell_type": "code",
   "execution_count": 20,
   "metadata": {},
   "outputs": [],
   "source": [
    "test.drop('Minimum Android',axis=1,inplace=True)\n",
    "test.drop('Released',axis=1,inplace=True)\n",
    "test.drop('Last Updated',axis=1,inplace=True)"
   ]
  },
  {
   "cell_type": "code",
   "execution_count": 22,
   "metadata": {},
   "outputs": [
    {
     "data": {
      "text/html": [
       "<div>\n",
       "<style scoped>\n",
       "    .dataframe tbody tr th:only-of-type {\n",
       "        vertical-align: middle;\n",
       "    }\n",
       "\n",
       "    .dataframe tbody tr th {\n",
       "        vertical-align: top;\n",
       "    }\n",
       "\n",
       "    .dataframe thead th {\n",
       "        text-align: right;\n",
       "    }\n",
       "</style>\n",
       "<table border=\"1\" class=\"dataframe\">\n",
       "  <thead>\n",
       "    <tr style=\"text-align: right;\">\n",
       "      <th></th>\n",
       "      <th>Rating</th>\n",
       "      <th>Rating Count</th>\n",
       "      <th>Installs</th>\n",
       "      <th>Free</th>\n",
       "      <th>Price</th>\n",
       "      <th>Currency</th>\n",
       "      <th>Size</th>\n",
       "      <th>Content Rating</th>\n",
       "      <th>Privacy Policy</th>\n",
       "      <th>Ad Supported</th>\n",
       "      <th>In App Purchases</th>\n",
       "      <th>Editors Choice</th>\n",
       "    </tr>\n",
       "  </thead>\n",
       "  <tbody>\n",
       "    <tr>\n",
       "      <th>0</th>\n",
       "      <td>4.4</td>\n",
       "      <td>3.0</td>\n",
       "      <td>5</td>\n",
       "      <td>True</td>\n",
       "      <td>0.00</td>\n",
       "      <td>USD</td>\n",
       "      <td>21M</td>\n",
       "      <td>Everyone</td>\n",
       "      <td>https://www.foodpanda.sg/contents/privacy.htm</td>\n",
       "      <td>False</td>\n",
       "      <td>False</td>\n",
       "      <td>False</td>\n",
       "    </tr>\n",
       "    <tr>\n",
       "      <th>1</th>\n",
       "      <td>4.4</td>\n",
       "      <td>3.0</td>\n",
       "      <td>6</td>\n",
       "      <td>True</td>\n",
       "      <td>0.00</td>\n",
       "      <td>USD</td>\n",
       "      <td>Varies with device</td>\n",
       "      <td>Everyone</td>\n",
       "      <td>https://www.tripadvisor.com/pages/privacy.html</td>\n",
       "      <td>True</td>\n",
       "      <td>False</td>\n",
       "      <td>False</td>\n",
       "    </tr>\n",
       "    <tr>\n",
       "      <th>2</th>\n",
       "      <td>4.2</td>\n",
       "      <td>0.0</td>\n",
       "      <td>3</td>\n",
       "      <td>True</td>\n",
       "      <td>0.00</td>\n",
       "      <td>USD</td>\n",
       "      <td>12M</td>\n",
       "      <td>Everyone</td>\n",
       "      <td>http://www.safeway.com/ShopStores/Privacy-Poli...</td>\n",
       "      <td>False</td>\n",
       "      <td>False</td>\n",
       "      <td>False</td>\n",
       "    </tr>\n",
       "    <tr>\n",
       "      <th>3</th>\n",
       "      <td>4.7</td>\n",
       "      <td>0.0</td>\n",
       "      <td>2</td>\n",
       "      <td>False</td>\n",
       "      <td>5.99</td>\n",
       "      <td>USD</td>\n",
       "      <td>Varies with device</td>\n",
       "      <td>Everyone</td>\n",
       "      <td>https://www.mycookbook-android.com/site/privac...</td>\n",
       "      <td>False</td>\n",
       "      <td>False</td>\n",
       "      <td>False</td>\n",
       "    </tr>\n",
       "    <tr>\n",
       "      <th>4</th>\n",
       "      <td>4.4</td>\n",
       "      <td>2.0</td>\n",
       "      <td>4</td>\n",
       "      <td>True</td>\n",
       "      <td>0.00</td>\n",
       "      <td>USD</td>\n",
       "      <td>Varies with device</td>\n",
       "      <td>Mature 17+</td>\n",
       "      <td>https://www.talabat.com/kuwait/privacy</td>\n",
       "      <td>True</td>\n",
       "      <td>False</td>\n",
       "      <td>False</td>\n",
       "    </tr>\n",
       "  </tbody>\n",
       "</table>\n",
       "</div>"
      ],
      "text/plain": [
       "   Rating  Rating Count  Installs   Free  Price Currency                Size  \\\n",
       "0     4.4           3.0         5   True   0.00      USD                 21M   \n",
       "1     4.4           3.0         6   True   0.00      USD  Varies with device   \n",
       "2     4.2           0.0         3   True   0.00      USD                 12M   \n",
       "3     4.7           0.0         2  False   5.99      USD  Varies with device   \n",
       "4     4.4           2.0         4   True   0.00      USD  Varies with device   \n",
       "\n",
       "  Content Rating                                     Privacy Policy  \\\n",
       "0       Everyone      https://www.foodpanda.sg/contents/privacy.htm   \n",
       "1       Everyone     https://www.tripadvisor.com/pages/privacy.html   \n",
       "2       Everyone  http://www.safeway.com/ShopStores/Privacy-Poli...   \n",
       "3       Everyone  https://www.mycookbook-android.com/site/privac...   \n",
       "4     Mature 17+             https://www.talabat.com/kuwait/privacy   \n",
       "\n",
       "   Ad Supported  In App Purchases  Editors Choice  \n",
       "0         False             False           False  \n",
       "1          True             False           False  \n",
       "2         False             False           False  \n",
       "3         False             False           False  \n",
       "4          True             False           False  "
      ]
     },
     "execution_count": 22,
     "metadata": {},
     "output_type": "execute_result"
    }
   ],
   "source": [
    "data.head()"
   ]
  },
  {
   "cell_type": "markdown",
   "metadata": {},
   "source": [
    "## Price/Currency/Size/Privacy Policy/Editors Choice"
   ]
  },
  {
   "cell_type": "code",
   "execution_count": 21,
   "metadata": {},
   "outputs": [],
   "source": [
    "data.drop('Price',axis=1,inplace=True)\n",
    "data.drop('Currency',axis=1,inplace=True)\n",
    "data.drop('Size',axis=1,inplace=True)\n",
    "data.drop('Privacy Policy',axis=1,inplace=True)\n",
    "data.drop('Editors Choice',axis=1,inplace=True)"
   ]
  },
  {
   "cell_type": "code",
   "execution_count": 22,
   "metadata": {},
   "outputs": [],
   "source": [
    "test.drop('Price',axis=1,inplace=True)\n",
    "test.drop('Currency',axis=1,inplace=True)\n",
    "test.drop('Size',axis=1,inplace=True)\n",
    "test.drop('Privacy Policy',axis=1,inplace=True)\n",
    "test.drop('Editors Choice',axis=1,inplace=True)"
   ]
  },
  {
   "cell_type": "code",
   "execution_count": 52,
   "metadata": {},
   "outputs": [
    {
     "data": {
      "text/html": [
       "<div>\n",
       "<style scoped>\n",
       "    .dataframe tbody tr th:only-of-type {\n",
       "        vertical-align: middle;\n",
       "    }\n",
       "\n",
       "    .dataframe tbody tr th {\n",
       "        vertical-align: top;\n",
       "    }\n",
       "\n",
       "    .dataframe thead th {\n",
       "        text-align: right;\n",
       "    }\n",
       "</style>\n",
       "<table border=\"1\" class=\"dataframe\">\n",
       "  <thead>\n",
       "    <tr style=\"text-align: right;\">\n",
       "      <th></th>\n",
       "      <th>Rating</th>\n",
       "      <th>Rating Count</th>\n",
       "      <th>Installs</th>\n",
       "      <th>Free</th>\n",
       "      <th>Content Rating</th>\n",
       "      <th>Ad Supported</th>\n",
       "      <th>In App Purchases</th>\n",
       "    </tr>\n",
       "  </thead>\n",
       "  <tbody>\n",
       "    <tr>\n",
       "      <th>0</th>\n",
       "      <td>4.4</td>\n",
       "      <td>3.0</td>\n",
       "      <td>5</td>\n",
       "      <td>True</td>\n",
       "      <td>Everyone</td>\n",
       "      <td>False</td>\n",
       "      <td>False</td>\n",
       "    </tr>\n",
       "    <tr>\n",
       "      <th>1</th>\n",
       "      <td>4.4</td>\n",
       "      <td>3.0</td>\n",
       "      <td>6</td>\n",
       "      <td>True</td>\n",
       "      <td>Everyone</td>\n",
       "      <td>True</td>\n",
       "      <td>False</td>\n",
       "    </tr>\n",
       "    <tr>\n",
       "      <th>2</th>\n",
       "      <td>4.2</td>\n",
       "      <td>0.0</td>\n",
       "      <td>3</td>\n",
       "      <td>True</td>\n",
       "      <td>Everyone</td>\n",
       "      <td>False</td>\n",
       "      <td>False</td>\n",
       "    </tr>\n",
       "    <tr>\n",
       "      <th>3</th>\n",
       "      <td>4.7</td>\n",
       "      <td>0.0</td>\n",
       "      <td>2</td>\n",
       "      <td>False</td>\n",
       "      <td>Everyone</td>\n",
       "      <td>False</td>\n",
       "      <td>False</td>\n",
       "    </tr>\n",
       "    <tr>\n",
       "      <th>4</th>\n",
       "      <td>4.4</td>\n",
       "      <td>2.0</td>\n",
       "      <td>4</td>\n",
       "      <td>True</td>\n",
       "      <td>Mature 17+</td>\n",
       "      <td>True</td>\n",
       "      <td>False</td>\n",
       "    </tr>\n",
       "  </tbody>\n",
       "</table>\n",
       "</div>"
      ],
      "text/plain": [
       "   Rating  Rating Count  Installs   Free Content Rating  Ad Supported  \\\n",
       "0     4.4           3.0         5   True       Everyone         False   \n",
       "1     4.4           3.0         6   True       Everyone          True   \n",
       "2     4.2           0.0         3   True       Everyone         False   \n",
       "3     4.7           0.0         2  False       Everyone         False   \n",
       "4     4.4           2.0         4   True     Mature 17+          True   \n",
       "\n",
       "   In App Purchases  \n",
       "0             False  \n",
       "1             False  \n",
       "2             False  \n",
       "3             False  \n",
       "4             False  "
      ]
     },
     "execution_count": 52,
     "metadata": {},
     "output_type": "execute_result"
    }
   ],
   "source": [
    "data.head()"
   ]
  },
  {
   "cell_type": "code",
   "execution_count": 24,
   "metadata": {
    "scrolled": true
   },
   "outputs": [
    {
     "name": "stdout",
     "output_type": "stream",
     "text": [
      "<class 'pandas.core.frame.DataFrame'>\n",
      "RangeIndex: 603047 entries, 0 to 603046\n",
      "Data columns (total 7 columns):\n",
      " #   Column            Non-Null Count   Dtype  \n",
      "---  ------            --------------   -----  \n",
      " 0   Rating            603047 non-null  float64\n",
      " 1   Rating Count      603047 non-null  float64\n",
      " 2   Installs          603047 non-null  int64  \n",
      " 3   Free              603047 non-null  bool   \n",
      " 4   Content Rating    603047 non-null  object \n",
      " 5   Ad Supported      603047 non-null  bool   \n",
      " 6   In App Purchases  603047 non-null  bool   \n",
      "dtypes: bool(3), float64(2), int64(1), object(1)\n",
      "memory usage: 20.1+ MB\n"
     ]
    }
   ],
   "source": [
    "data.info()"
   ]
  },
  {
   "cell_type": "code",
   "execution_count": 35,
   "metadata": {},
   "outputs": [
    {
     "name": "stdout",
     "output_type": "stream",
     "text": [
      "<class 'pandas.core.frame.DataFrame'>\n",
      "RangeIndex: 46922 entries, 0 to 46921\n",
      "Data columns (total 6 columns):\n",
      " #   Column            Non-Null Count  Dtype  \n",
      "---  ------            --------------  -----  \n",
      " 0   Rating Count      46922 non-null  float64\n",
      " 1   Installs          46922 non-null  int64  \n",
      " 2   Free              46922 non-null  bool   \n",
      " 3   Content Rating    46922 non-null  object \n",
      " 4   Ad Supported      46922 non-null  bool   \n",
      " 5   In App Purchases  46922 non-null  bool   \n",
      "dtypes: bool(3), float64(1), int64(1), object(1)\n",
      "memory usage: 1.2+ MB\n"
     ]
    }
   ],
   "source": [
    "test.info()"
   ]
  },
  {
   "cell_type": "markdown",
   "metadata": {},
   "source": [
    "## Free"
   ]
  },
  {
   "cell_type": "code",
   "execution_count": 23,
   "metadata": {
    "scrolled": true
   },
   "outputs": [],
   "source": [
    "free_mapping = {False:0, True:1}\n",
    "\n",
    "data['Free']=data['Free'].map(free_mapping)\n",
    "test['Free']=test['Free'].map(free_mapping)"
   ]
  },
  {
   "cell_type": "code",
   "execution_count": 26,
   "metadata": {
    "scrolled": true
   },
   "outputs": [
    {
     "data": {
      "text/html": [
       "<div>\n",
       "<style scoped>\n",
       "    .dataframe tbody tr th:only-of-type {\n",
       "        vertical-align: middle;\n",
       "    }\n",
       "\n",
       "    .dataframe tbody tr th {\n",
       "        vertical-align: top;\n",
       "    }\n",
       "\n",
       "    .dataframe thead th {\n",
       "        text-align: right;\n",
       "    }\n",
       "</style>\n",
       "<table border=\"1\" class=\"dataframe\">\n",
       "  <thead>\n",
       "    <tr style=\"text-align: right;\">\n",
       "      <th></th>\n",
       "      <th>Rating</th>\n",
       "      <th>Rating Count</th>\n",
       "      <th>Installs</th>\n",
       "      <th>Free</th>\n",
       "      <th>Content Rating</th>\n",
       "      <th>Ad Supported</th>\n",
       "      <th>In App Purchases</th>\n",
       "    </tr>\n",
       "  </thead>\n",
       "  <tbody>\n",
       "    <tr>\n",
       "      <th>0</th>\n",
       "      <td>4.4</td>\n",
       "      <td>3.0</td>\n",
       "      <td>5</td>\n",
       "      <td>1</td>\n",
       "      <td>Everyone</td>\n",
       "      <td>False</td>\n",
       "      <td>False</td>\n",
       "    </tr>\n",
       "    <tr>\n",
       "      <th>1</th>\n",
       "      <td>4.4</td>\n",
       "      <td>3.0</td>\n",
       "      <td>6</td>\n",
       "      <td>1</td>\n",
       "      <td>Everyone</td>\n",
       "      <td>True</td>\n",
       "      <td>False</td>\n",
       "    </tr>\n",
       "    <tr>\n",
       "      <th>2</th>\n",
       "      <td>4.2</td>\n",
       "      <td>0.0</td>\n",
       "      <td>3</td>\n",
       "      <td>1</td>\n",
       "      <td>Everyone</td>\n",
       "      <td>False</td>\n",
       "      <td>False</td>\n",
       "    </tr>\n",
       "    <tr>\n",
       "      <th>3</th>\n",
       "      <td>4.7</td>\n",
       "      <td>0.0</td>\n",
       "      <td>2</td>\n",
       "      <td>0</td>\n",
       "      <td>Everyone</td>\n",
       "      <td>False</td>\n",
       "      <td>False</td>\n",
       "    </tr>\n",
       "    <tr>\n",
       "      <th>4</th>\n",
       "      <td>4.4</td>\n",
       "      <td>2.0</td>\n",
       "      <td>4</td>\n",
       "      <td>1</td>\n",
       "      <td>Mature 17+</td>\n",
       "      <td>True</td>\n",
       "      <td>False</td>\n",
       "    </tr>\n",
       "  </tbody>\n",
       "</table>\n",
       "</div>"
      ],
      "text/plain": [
       "   Rating  Rating Count  Installs  Free Content Rating  Ad Supported  \\\n",
       "0     4.4           3.0         5     1       Everyone         False   \n",
       "1     4.4           3.0         6     1       Everyone          True   \n",
       "2     4.2           0.0         3     1       Everyone         False   \n",
       "3     4.7           0.0         2     0       Everyone         False   \n",
       "4     4.4           2.0         4     1     Mature 17+          True   \n",
       "\n",
       "   In App Purchases  \n",
       "0             False  \n",
       "1             False  \n",
       "2             False  \n",
       "3             False  \n",
       "4             False  "
      ]
     },
     "execution_count": 26,
     "metadata": {},
     "output_type": "execute_result"
    }
   ],
   "source": [
    "data.head()"
   ]
  },
  {
   "cell_type": "markdown",
   "metadata": {},
   "source": [
    "## Content Rating"
   ]
  },
  {
   "cell_type": "code",
   "execution_count": 33,
   "metadata": {},
   "outputs": [
    {
     "data": {
      "text/plain": [
       "Everyone           538211\n",
       "Teen                42715\n",
       "Mature 17+          11532\n",
       "Everyone 10+        10539\n",
       "Unrated                28\n",
       "Adults only 18+        22\n",
       "Name: Content Rating, dtype: int64"
      ]
     },
     "execution_count": 33,
     "metadata": {},
     "output_type": "execute_result"
    }
   ],
   "source": [
    "data['Content Rating'].value_counts()"
   ]
  },
  {
   "cell_type": "code",
   "execution_count": 38,
   "metadata": {},
   "outputs": [
    {
     "data": {
      "text/plain": [
       "Everyone           40472\n",
       "Teen                4122\n",
       "Everyone 10+        1256\n",
       "Mature 17+          1069\n",
       "Adults only 18+        2\n",
       "Unrated                1\n",
       "Name: Content Rating, dtype: int64"
      ]
     },
     "execution_count": 38,
     "metadata": {},
     "output_type": "execute_result"
    }
   ],
   "source": [
    "test['Content Rating'].value_counts()"
   ]
  },
  {
   "cell_type": "code",
   "execution_count": 24,
   "metadata": {},
   "outputs": [],
   "source": [
    "content_mapping = {'Everyone':0, 'Teen':1, 'Everyone 10+':2,\n",
    "                   'Mature 17+':3, 'Unrated':4, 'Adults only 18+':5}\n",
    "\n",
    "data['Content']=data['Content Rating'].map(content_mapping)\n",
    "test['Content']=test['Content Rating'].map(content_mapping)"
   ]
  },
  {
   "cell_type": "code",
   "execution_count": 25,
   "metadata": {},
   "outputs": [],
   "source": [
    "data.drop('Content Rating',axis=1,inplace=True)\n",
    "test.drop('Content Rating',axis=1,inplace=True)"
   ]
  },
  {
   "cell_type": "code",
   "execution_count": 36,
   "metadata": {},
   "outputs": [
    {
     "data": {
      "text/html": [
       "<div>\n",
       "<style scoped>\n",
       "    .dataframe tbody tr th:only-of-type {\n",
       "        vertical-align: middle;\n",
       "    }\n",
       "\n",
       "    .dataframe tbody tr th {\n",
       "        vertical-align: top;\n",
       "    }\n",
       "\n",
       "    .dataframe thead th {\n",
       "        text-align: right;\n",
       "    }\n",
       "</style>\n",
       "<table border=\"1\" class=\"dataframe\">\n",
       "  <thead>\n",
       "    <tr style=\"text-align: right;\">\n",
       "      <th></th>\n",
       "      <th>Rating</th>\n",
       "      <th>Rating Count</th>\n",
       "      <th>Installs</th>\n",
       "      <th>Free</th>\n",
       "      <th>Ad Supported</th>\n",
       "      <th>In App Purchases</th>\n",
       "      <th>Content</th>\n",
       "    </tr>\n",
       "  </thead>\n",
       "  <tbody>\n",
       "    <tr>\n",
       "      <th>0</th>\n",
       "      <td>4.4</td>\n",
       "      <td>3.0</td>\n",
       "      <td>5</td>\n",
       "      <td>1</td>\n",
       "      <td>False</td>\n",
       "      <td>False</td>\n",
       "      <td>0</td>\n",
       "    </tr>\n",
       "    <tr>\n",
       "      <th>1</th>\n",
       "      <td>4.4</td>\n",
       "      <td>3.0</td>\n",
       "      <td>6</td>\n",
       "      <td>1</td>\n",
       "      <td>True</td>\n",
       "      <td>False</td>\n",
       "      <td>0</td>\n",
       "    </tr>\n",
       "    <tr>\n",
       "      <th>2</th>\n",
       "      <td>4.2</td>\n",
       "      <td>0.0</td>\n",
       "      <td>3</td>\n",
       "      <td>1</td>\n",
       "      <td>False</td>\n",
       "      <td>False</td>\n",
       "      <td>0</td>\n",
       "    </tr>\n",
       "    <tr>\n",
       "      <th>3</th>\n",
       "      <td>4.7</td>\n",
       "      <td>0.0</td>\n",
       "      <td>2</td>\n",
       "      <td>0</td>\n",
       "      <td>False</td>\n",
       "      <td>False</td>\n",
       "      <td>0</td>\n",
       "    </tr>\n",
       "    <tr>\n",
       "      <th>4</th>\n",
       "      <td>4.4</td>\n",
       "      <td>2.0</td>\n",
       "      <td>4</td>\n",
       "      <td>1</td>\n",
       "      <td>True</td>\n",
       "      <td>False</td>\n",
       "      <td>3</td>\n",
       "    </tr>\n",
       "    <tr>\n",
       "      <th>5</th>\n",
       "      <td>4.5</td>\n",
       "      <td>2.0</td>\n",
       "      <td>5</td>\n",
       "      <td>1</td>\n",
       "      <td>False</td>\n",
       "      <td>False</td>\n",
       "      <td>0</td>\n",
       "    </tr>\n",
       "    <tr>\n",
       "      <th>6</th>\n",
       "      <td>2.8</td>\n",
       "      <td>0.0</td>\n",
       "      <td>3</td>\n",
       "      <td>1</td>\n",
       "      <td>True</td>\n",
       "      <td>False</td>\n",
       "      <td>0</td>\n",
       "    </tr>\n",
       "    <tr>\n",
       "      <th>7</th>\n",
       "      <td>4.1</td>\n",
       "      <td>2.0</td>\n",
       "      <td>5</td>\n",
       "      <td>1</td>\n",
       "      <td>True</td>\n",
       "      <td>False</td>\n",
       "      <td>1</td>\n",
       "    </tr>\n",
       "    <tr>\n",
       "      <th>8</th>\n",
       "      <td>2.1</td>\n",
       "      <td>0.0</td>\n",
       "      <td>3</td>\n",
       "      <td>1</td>\n",
       "      <td>True</td>\n",
       "      <td>False</td>\n",
       "      <td>0</td>\n",
       "    </tr>\n",
       "    <tr>\n",
       "      <th>9</th>\n",
       "      <td>4.6</td>\n",
       "      <td>1.0</td>\n",
       "      <td>4</td>\n",
       "      <td>1</td>\n",
       "      <td>True</td>\n",
       "      <td>False</td>\n",
       "      <td>0</td>\n",
       "    </tr>\n",
       "  </tbody>\n",
       "</table>\n",
       "</div>"
      ],
      "text/plain": [
       "   Rating  Rating Count  Installs  Free  Ad Supported  In App Purchases  \\\n",
       "0     4.4           3.0         5     1         False             False   \n",
       "1     4.4           3.0         6     1          True             False   \n",
       "2     4.2           0.0         3     1         False             False   \n",
       "3     4.7           0.0         2     0         False             False   \n",
       "4     4.4           2.0         4     1          True             False   \n",
       "5     4.5           2.0         5     1         False             False   \n",
       "6     2.8           0.0         3     1          True             False   \n",
       "7     4.1           2.0         5     1          True             False   \n",
       "8     2.1           0.0         3     1          True             False   \n",
       "9     4.6           1.0         4     1          True             False   \n",
       "\n",
       "   Content  \n",
       "0        0  \n",
       "1        0  \n",
       "2        0  \n",
       "3        0  \n",
       "4        3  \n",
       "5        0  \n",
       "6        0  \n",
       "7        1  \n",
       "8        0  \n",
       "9        0  "
      ]
     },
     "execution_count": 36,
     "metadata": {},
     "output_type": "execute_result"
    }
   ],
   "source": [
    "data.head(10)"
   ]
  },
  {
   "cell_type": "markdown",
   "metadata": {},
   "source": [
    "## Ad Supported"
   ]
  },
  {
   "cell_type": "code",
   "execution_count": 26,
   "metadata": {},
   "outputs": [],
   "source": [
    "ad_mapping = {False:0, True:1}\n",
    "\n",
    "data['Ad Supported']=data['Ad Supported'].map(ad_mapping)\n",
    "test['Ad Supported']=test['Ad Supported'].map(ad_mapping)"
   ]
  },
  {
   "cell_type": "code",
   "execution_count": 61,
   "metadata": {},
   "outputs": [
    {
     "data": {
      "text/html": [
       "<div>\n",
       "<style scoped>\n",
       "    .dataframe tbody tr th:only-of-type {\n",
       "        vertical-align: middle;\n",
       "    }\n",
       "\n",
       "    .dataframe tbody tr th {\n",
       "        vertical-align: top;\n",
       "    }\n",
       "\n",
       "    .dataframe thead th {\n",
       "        text-align: right;\n",
       "    }\n",
       "</style>\n",
       "<table border=\"1\" class=\"dataframe\">\n",
       "  <thead>\n",
       "    <tr style=\"text-align: right;\">\n",
       "      <th></th>\n",
       "      <th>Rating</th>\n",
       "      <th>Rating Count</th>\n",
       "      <th>Installs</th>\n",
       "      <th>Free</th>\n",
       "      <th>Content Rating</th>\n",
       "      <th>Ad Supported</th>\n",
       "      <th>In App Purchases</th>\n",
       "    </tr>\n",
       "  </thead>\n",
       "  <tbody>\n",
       "    <tr>\n",
       "      <th>0</th>\n",
       "      <td>4.4</td>\n",
       "      <td>3.0</td>\n",
       "      <td>5</td>\n",
       "      <td>1</td>\n",
       "      <td>0</td>\n",
       "      <td>0</td>\n",
       "      <td>False</td>\n",
       "    </tr>\n",
       "    <tr>\n",
       "      <th>1</th>\n",
       "      <td>4.4</td>\n",
       "      <td>3.0</td>\n",
       "      <td>6</td>\n",
       "      <td>1</td>\n",
       "      <td>0</td>\n",
       "      <td>1</td>\n",
       "      <td>False</td>\n",
       "    </tr>\n",
       "    <tr>\n",
       "      <th>2</th>\n",
       "      <td>4.2</td>\n",
       "      <td>0.0</td>\n",
       "      <td>3</td>\n",
       "      <td>1</td>\n",
       "      <td>0</td>\n",
       "      <td>0</td>\n",
       "      <td>False</td>\n",
       "    </tr>\n",
       "    <tr>\n",
       "      <th>3</th>\n",
       "      <td>4.7</td>\n",
       "      <td>0.0</td>\n",
       "      <td>2</td>\n",
       "      <td>0</td>\n",
       "      <td>0</td>\n",
       "      <td>0</td>\n",
       "      <td>False</td>\n",
       "    </tr>\n",
       "    <tr>\n",
       "      <th>4</th>\n",
       "      <td>4.4</td>\n",
       "      <td>2.0</td>\n",
       "      <td>4</td>\n",
       "      <td>1</td>\n",
       "      <td>3</td>\n",
       "      <td>1</td>\n",
       "      <td>False</td>\n",
       "    </tr>\n",
       "  </tbody>\n",
       "</table>\n",
       "</div>"
      ],
      "text/plain": [
       "   Rating  Rating Count  Installs  Free  Content Rating  Ad Supported  \\\n",
       "0     4.4           3.0         5     1               0             0   \n",
       "1     4.4           3.0         6     1               0             1   \n",
       "2     4.2           0.0         3     1               0             0   \n",
       "3     4.7           0.0         2     0               0             0   \n",
       "4     4.4           2.0         4     1               3             1   \n",
       "\n",
       "   In App Purchases  \n",
       "0             False  \n",
       "1             False  \n",
       "2             False  \n",
       "3             False  \n",
       "4             False  "
      ]
     },
     "execution_count": 61,
     "metadata": {},
     "output_type": "execute_result"
    }
   ],
   "source": [
    "data.head()"
   ]
  },
  {
   "cell_type": "markdown",
   "metadata": {},
   "source": [
    "## In App Purchases"
   ]
  },
  {
   "cell_type": "code",
   "execution_count": 27,
   "metadata": {},
   "outputs": [],
   "source": [
    "purchase_mapping = {False:0, True:1}\n",
    "\n",
    "data['In App Purchases']=data['In App Purchases'].map(purchase_mapping)\n",
    "test['In App Purchases']=test['In App Purchases'].map(purchase_mapping)"
   ]
  },
  {
   "cell_type": "code",
   "execution_count": 63,
   "metadata": {
    "scrolled": true
   },
   "outputs": [
    {
     "data": {
      "text/html": [
       "<div>\n",
       "<style scoped>\n",
       "    .dataframe tbody tr th:only-of-type {\n",
       "        vertical-align: middle;\n",
       "    }\n",
       "\n",
       "    .dataframe tbody tr th {\n",
       "        vertical-align: top;\n",
       "    }\n",
       "\n",
       "    .dataframe thead th {\n",
       "        text-align: right;\n",
       "    }\n",
       "</style>\n",
       "<table border=\"1\" class=\"dataframe\">\n",
       "  <thead>\n",
       "    <tr style=\"text-align: right;\">\n",
       "      <th></th>\n",
       "      <th>Rating</th>\n",
       "      <th>Rating Count</th>\n",
       "      <th>Installs</th>\n",
       "      <th>Free</th>\n",
       "      <th>Content Rating</th>\n",
       "      <th>Ad Supported</th>\n",
       "      <th>In App Purchases</th>\n",
       "    </tr>\n",
       "  </thead>\n",
       "  <tbody>\n",
       "    <tr>\n",
       "      <th>0</th>\n",
       "      <td>4.4</td>\n",
       "      <td>3.0</td>\n",
       "      <td>5</td>\n",
       "      <td>1</td>\n",
       "      <td>0</td>\n",
       "      <td>0</td>\n",
       "      <td>0</td>\n",
       "    </tr>\n",
       "    <tr>\n",
       "      <th>1</th>\n",
       "      <td>4.4</td>\n",
       "      <td>3.0</td>\n",
       "      <td>6</td>\n",
       "      <td>1</td>\n",
       "      <td>0</td>\n",
       "      <td>1</td>\n",
       "      <td>0</td>\n",
       "    </tr>\n",
       "    <tr>\n",
       "      <th>2</th>\n",
       "      <td>4.2</td>\n",
       "      <td>0.0</td>\n",
       "      <td>3</td>\n",
       "      <td>1</td>\n",
       "      <td>0</td>\n",
       "      <td>0</td>\n",
       "      <td>0</td>\n",
       "    </tr>\n",
       "    <tr>\n",
       "      <th>3</th>\n",
       "      <td>4.7</td>\n",
       "      <td>0.0</td>\n",
       "      <td>2</td>\n",
       "      <td>0</td>\n",
       "      <td>0</td>\n",
       "      <td>0</td>\n",
       "      <td>0</td>\n",
       "    </tr>\n",
       "    <tr>\n",
       "      <th>4</th>\n",
       "      <td>4.4</td>\n",
       "      <td>2.0</td>\n",
       "      <td>4</td>\n",
       "      <td>1</td>\n",
       "      <td>3</td>\n",
       "      <td>1</td>\n",
       "      <td>0</td>\n",
       "    </tr>\n",
       "  </tbody>\n",
       "</table>\n",
       "</div>"
      ],
      "text/plain": [
       "   Rating  Rating Count  Installs  Free  Content Rating  Ad Supported  \\\n",
       "0     4.4           3.0         5     1               0             0   \n",
       "1     4.4           3.0         6     1               0             1   \n",
       "2     4.2           0.0         3     1               0             0   \n",
       "3     4.7           0.0         2     0               0             0   \n",
       "4     4.4           2.0         4     1               3             1   \n",
       "\n",
       "   In App Purchases  \n",
       "0                 0  \n",
       "1                 0  \n",
       "2                 0  \n",
       "3                 0  \n",
       "4                 0  "
      ]
     },
     "execution_count": 63,
     "metadata": {},
     "output_type": "execute_result"
    }
   ],
   "source": [
    "data.head()"
   ]
  },
  {
   "cell_type": "code",
   "execution_count": 77,
   "metadata": {
    "scrolled": true
   },
   "outputs": [
    {
     "name": "stdout",
     "output_type": "stream",
     "text": [
      "<class 'pandas.core.frame.DataFrame'>\n",
      "RangeIndex: 603047 entries, 0 to 603046\n",
      "Data columns (total 7 columns):\n",
      " #   Column            Non-Null Count   Dtype  \n",
      "---  ------            --------------   -----  \n",
      " 0   Rating            603047 non-null  int32  \n",
      " 1   Rating Count      603047 non-null  float64\n",
      " 2   Installs          603047 non-null  int64  \n",
      " 3   Free              603047 non-null  int64  \n",
      " 4   Ad Supported      603047 non-null  int64  \n",
      " 5   In App Purchases  603047 non-null  int64  \n",
      " 6   Content           603047 non-null  int64  \n",
      "dtypes: float64(1), int32(1), int64(5)\n",
      "memory usage: 29.9 MB\n"
     ]
    }
   ],
   "source": [
    "data.info()"
   ]
  },
  {
   "cell_type": "code",
   "execution_count": 78,
   "metadata": {
    "scrolled": true
   },
   "outputs": [
    {
     "name": "stdout",
     "output_type": "stream",
     "text": [
      "<class 'pandas.core.frame.DataFrame'>\n",
      "RangeIndex: 120610 entries, 482437 to 603046\n",
      "Data columns (total 7 columns):\n",
      " #   Column            Non-Null Count   Dtype  \n",
      "---  ------            --------------   -----  \n",
      " 0   Rating            120610 non-null  int32  \n",
      " 1   Rating Count      120610 non-null  float64\n",
      " 2   Installs          120610 non-null  int64  \n",
      " 3   Free              120610 non-null  int64  \n",
      " 4   Ad Supported      120610 non-null  int64  \n",
      " 5   In App Purchases  120610 non-null  int64  \n",
      " 6   Content           120610 non-null  int64  \n",
      "dtypes: float64(1), int32(1), int64(5)\n",
      "memory usage: 6.0 MB\n"
     ]
    }
   ],
   "source": [
    "test.info()"
   ]
  },
  {
   "cell_type": "markdown",
   "metadata": {},
   "source": [
    "## 선형회귀"
   ]
  },
  {
   "cell_type": "code",
   "execution_count": 28,
   "metadata": {},
   "outputs": [
    {
     "data": {
      "text/plain": [
       "482437"
      ]
     },
     "execution_count": 28,
     "metadata": {},
     "output_type": "execute_result"
    }
   ],
   "source": [
    "split_count = int(data.shape[0] * 0.8)\n",
    "split_count"
   ]
  },
  {
   "cell_type": "code",
   "execution_count": 29,
   "metadata": {},
   "outputs": [],
   "source": [
    "train = data[:split_count]\n",
    "Dtest = data[split_count:]"
   ]
  },
  {
   "cell_type": "code",
   "execution_count": 30,
   "metadata": {},
   "outputs": [
    {
     "data": {
      "text/html": [
       "<div>\n",
       "<style scoped>\n",
       "    .dataframe tbody tr th:only-of-type {\n",
       "        vertical-align: middle;\n",
       "    }\n",
       "\n",
       "    .dataframe tbody tr th {\n",
       "        vertical-align: top;\n",
       "    }\n",
       "\n",
       "    .dataframe thead th {\n",
       "        text-align: right;\n",
       "    }\n",
       "</style>\n",
       "<table border=\"1\" class=\"dataframe\">\n",
       "  <thead>\n",
       "    <tr style=\"text-align: right;\">\n",
       "      <th></th>\n",
       "      <th>Rating Count</th>\n",
       "      <th>Installs</th>\n",
       "      <th>Free</th>\n",
       "      <th>Ad Supported</th>\n",
       "      <th>In App Purchases</th>\n",
       "      <th>Content</th>\n",
       "    </tr>\n",
       "  </thead>\n",
       "  <tbody>\n",
       "    <tr>\n",
       "      <th>0</th>\n",
       "      <td>3.0</td>\n",
       "      <td>5</td>\n",
       "      <td>1</td>\n",
       "      <td>0</td>\n",
       "      <td>0</td>\n",
       "      <td>0</td>\n",
       "    </tr>\n",
       "    <tr>\n",
       "      <th>1</th>\n",
       "      <td>3.0</td>\n",
       "      <td>6</td>\n",
       "      <td>1</td>\n",
       "      <td>1</td>\n",
       "      <td>0</td>\n",
       "      <td>0</td>\n",
       "    </tr>\n",
       "    <tr>\n",
       "      <th>2</th>\n",
       "      <td>0.0</td>\n",
       "      <td>3</td>\n",
       "      <td>1</td>\n",
       "      <td>0</td>\n",
       "      <td>0</td>\n",
       "      <td>0</td>\n",
       "    </tr>\n",
       "    <tr>\n",
       "      <th>3</th>\n",
       "      <td>0.0</td>\n",
       "      <td>2</td>\n",
       "      <td>0</td>\n",
       "      <td>0</td>\n",
       "      <td>0</td>\n",
       "      <td>0</td>\n",
       "    </tr>\n",
       "    <tr>\n",
       "      <th>4</th>\n",
       "      <td>2.0</td>\n",
       "      <td>4</td>\n",
       "      <td>1</td>\n",
       "      <td>1</td>\n",
       "      <td>0</td>\n",
       "      <td>3</td>\n",
       "    </tr>\n",
       "  </tbody>\n",
       "</table>\n",
       "</div>"
      ],
      "text/plain": [
       "   Rating Count  Installs  Free  Ad Supported  In App Purchases  Content\n",
       "0           3.0         5     1             0                 0        0\n",
       "1           3.0         6     1             1                 0        0\n",
       "2           0.0         3     1             0                 0        0\n",
       "3           0.0         2     0             0                 0        0\n",
       "4           2.0         4     1             1                 0        3"
      ]
     },
     "execution_count": 30,
     "metadata": {},
     "output_type": "execute_result"
    }
   ],
   "source": [
    "x_train = train.drop('Rating',axis=1)\n",
    "x_train.head()"
   ]
  },
  {
   "cell_type": "code",
   "execution_count": 31,
   "metadata": {},
   "outputs": [],
   "source": [
    "y_train = train['Rating']\n",
    "y_train = y_train.astype({'Rating': 'int'})"
   ]
  },
  {
   "cell_type": "code",
   "execution_count": 32,
   "metadata": {},
   "outputs": [],
   "source": [
    "x_test = Dtest.drop('Rating',axis=1)"
   ]
  },
  {
   "cell_type": "code",
   "execution_count": 33,
   "metadata": {},
   "outputs": [],
   "source": [
    "y_test = Dtest['Rating']"
   ]
  },
  {
   "cell_type": "code",
   "execution_count": 34,
   "metadata": {},
   "outputs": [],
   "source": [
    "from sklearn import linear_model\n",
    "from sklearn.model_selection import train_test_split\n",
    "from sklearn.metrics import mean_squared_error\n",
    "from math import sqrt"
   ]
  },
  {
   "cell_type": "code",
   "execution_count": 35,
   "metadata": {},
   "outputs": [],
   "source": [
    "lr = linear_model.LinearRegression()"
   ]
  },
  {
   "cell_type": "code",
   "execution_count": 36,
   "metadata": {},
   "outputs": [],
   "source": [
    "model = lr.fit(x_train, y_train)"
   ]
  },
  {
   "cell_type": "code",
   "execution_count": 37,
   "metadata": {
    "scrolled": true
   },
   "outputs": [
    {
     "data": {
      "text/plain": [
       "array([2.49310708, 1.72836633, 3.25784784, 3.25784784, 4.0225886 ,\n",
       "       3.06205896, 4.59154048, 2.29731821, 3.25784784, 3.06205896,\n",
       "       3.06205896, 3.92667659, 3.25784784, 3.16193583, 3.25784784])"
      ]
     },
     "execution_count": 37,
     "metadata": {},
     "output_type": "execute_result"
    }
   ],
   "source": [
    "y_predict = model.predict(x_test)\n",
    "y_predict[:15]"
   ]
  },
  {
   "cell_type": "markdown",
   "metadata": {},
   "source": [
    "## 분류모델"
   ]
  },
  {
   "cell_type": "code",
   "execution_count": 38,
   "metadata": {
    "scrolled": true
   },
   "outputs": [
    {
     "name": "stdout",
     "output_type": "stream",
     "text": [
      "<class 'pandas.core.frame.DataFrame'>\n",
      "RangeIndex: 603047 entries, 0 to 603046\n",
      "Data columns (total 6 columns):\n",
      " #   Column            Non-Null Count   Dtype  \n",
      "---  ------            --------------   -----  \n",
      " 0   Rating Count      603047 non-null  float64\n",
      " 1   Installs          603047 non-null  int64  \n",
      " 2   Free              603047 non-null  int64  \n",
      " 3   Ad Supported      603047 non-null  int64  \n",
      " 4   In App Purchases  603047 non-null  int64  \n",
      " 5   Content           603047 non-null  int64  \n",
      "dtypes: float64(1), int64(5)\n",
      "memory usage: 27.6 MB\n"
     ]
    }
   ],
   "source": [
    "train_data = data.drop('Rating',axis=1)\n",
    "train_data.info()"
   ]
  },
  {
   "cell_type": "code",
   "execution_count": 39,
   "metadata": {},
   "outputs": [],
   "source": [
    "data = data.astype({'Rating': 'int'})\n",
    "target = data['Rating']"
   ]
  },
  {
   "cell_type": "code",
   "execution_count": 40,
   "metadata": {},
   "outputs": [],
   "source": [
    "from sklearn.model_selection import KFold\n",
    "from sklearn.model_selection import cross_val_score\n",
    "k_fold = KFold(n_splits=10, shuffle=True, random_state = 0)"
   ]
  },
  {
   "cell_type": "code",
   "execution_count": 41,
   "metadata": {},
   "outputs": [],
   "source": [
    "from sklearn.neighbors import KNeighborsClassifier\n",
    "from sklearn.tree import DecisionTreeClassifier\n",
    "from sklearn.ensemble import RandomForestClassifier\n",
    "from sklearn.naive_bayes import GaussianNB\n",
    "from sklearn.svm import SVC\n",
    "\n",
    "import numpy as np"
   ]
  },
  {
   "cell_type": "code",
   "execution_count": 2,
   "metadata": {},
   "outputs": [
    {
     "ename": "NameError",
     "evalue": "name 'KNeighborsClassifier' is not defined",
     "output_type": "error",
     "traceback": [
      "\u001b[1;31m---------------------------------------------------------------------------\u001b[0m",
      "\u001b[1;31mNameError\u001b[0m                                 Traceback (most recent call last)",
      "\u001b[1;32m<ipython-input-2-5e402eba64d6>\u001b[0m in \u001b[0;36m<module>\u001b[1;34m\u001b[0m\n\u001b[1;32m----> 1\u001b[1;33m \u001b[0mclf\u001b[0m \u001b[1;33m=\u001b[0m \u001b[0mKNeighborsClassifier\u001b[0m\u001b[1;33m(\u001b[0m\u001b[0mn_neighbors\u001b[0m \u001b[1;33m=\u001b[0m \u001b[1;36m13\u001b[0m\u001b[1;33m)\u001b[0m\u001b[1;33m\u001b[0m\u001b[1;33m\u001b[0m\u001b[0m\n\u001b[0m\u001b[0;32m      2\u001b[0m \u001b[0mscoring\u001b[0m \u001b[1;33m=\u001b[0m \u001b[1;34m'accuracy'\u001b[0m\u001b[1;33m\u001b[0m\u001b[1;33m\u001b[0m\u001b[0m\n\u001b[0;32m      3\u001b[0m \u001b[0mscore\u001b[0m \u001b[1;33m=\u001b[0m \u001b[0mcross_val_score\u001b[0m\u001b[1;33m(\u001b[0m\u001b[0mclf\u001b[0m\u001b[1;33m,\u001b[0m \u001b[0mtrain_data\u001b[0m\u001b[1;33m,\u001b[0m \u001b[0mtarget\u001b[0m\u001b[1;33m,\u001b[0m \u001b[0mcv\u001b[0m \u001b[1;33m=\u001b[0m \u001b[0mk_fold\u001b[0m\u001b[1;33m,\u001b[0m \u001b[0mn_jobs\u001b[0m\u001b[1;33m=\u001b[0m\u001b[1;36m1\u001b[0m\u001b[1;33m,\u001b[0m \u001b[0mscoring\u001b[0m\u001b[1;33m=\u001b[0m\u001b[0mscoring\u001b[0m\u001b[1;33m)\u001b[0m\u001b[1;33m\u001b[0m\u001b[1;33m\u001b[0m\u001b[0m\n\u001b[0;32m      4\u001b[0m \u001b[0mprint\u001b[0m\u001b[1;33m(\u001b[0m\u001b[0mscore\u001b[0m\u001b[1;33m)\u001b[0m\u001b[1;33m\u001b[0m\u001b[1;33m\u001b[0m\u001b[0m\n",
      "\u001b[1;31mNameError\u001b[0m: name 'KNeighborsClassifier' is not defined"
     ]
    }
   ],
   "source": [
    "#결과가 나오지 않음\n",
    "clf = KNeighborsClassifier(n_neighbors = 13)\n",
    "scoring = 'accuracy'\n",
    "score = cross_val_score(clf, train_data, target, cv = k_fold, n_jobs=1, scoring=scoring)\n",
    "print(score)"
   ]
  },
  {
   "cell_type": "code",
   "execution_count": 35,
   "metadata": {},
   "outputs": [
    {
     "name": "stdout",
     "output_type": "stream",
     "text": [
      "[0.68027527 0.68258022 0.67738993 0.68178426 0.67773816 0.68437111\n",
      " 0.68160186 0.68202773 0.6839679  0.68048554]\n"
     ]
    }
   ],
   "source": [
    "clf = DecisionTreeClassifier()\n",
    "scoring = 'accuracy'\n",
    "score = cross_val_score(clf, train_data, target, cv = k_fold, n_jobs=1, scoring=scoring)\n",
    "print(score)"
   ]
  },
  {
   "cell_type": "code",
   "execution_count": 36,
   "metadata": {},
   "outputs": [
    {
     "data": {
      "text/plain": [
       "68.12"
      ]
     },
     "execution_count": 36,
     "metadata": {},
     "output_type": "execute_result"
    }
   ],
   "source": [
    "#평균 정확도 구하기\n",
    "round(np.mean(score)*100,2)"
   ]
  },
  {
   "cell_type": "code",
   "execution_count": 34,
   "metadata": {},
   "outputs": [
    {
     "name": "stdout",
     "output_type": "stream",
     "text": [
      "[0.68027527 0.68262996 0.67734019 0.68181743 0.67772158 0.68435453\n",
      " 0.68158527 0.68211064 0.68391815 0.68041921]\n"
     ]
    }
   ],
   "source": [
    "clf = RandomForestClassifier(n_estimators = 13)\n",
    "scoring = 'accuracy'\n",
    "score = cross_val_score(clf, train_data, target, cv = k_fold, n_jobs=1, scoring=scoring)\n",
    "print(score)"
   ]
  },
  {
   "cell_type": "code",
   "execution_count": 35,
   "metadata": {},
   "outputs": [
    {
     "data": {
      "text/plain": [
       "68.12"
      ]
     },
     "execution_count": 35,
     "metadata": {},
     "output_type": "execute_result"
    }
   ],
   "source": [
    "#평균 정확도 구하기\n",
    "round(np.mean(score)*100,2)"
   ]
  },
  {
   "cell_type": "code",
   "execution_count": 36,
   "metadata": {},
   "outputs": [
    {
     "name": "stdout",
     "output_type": "stream",
     "text": [
      "[0.27783766 0.2747865  0.27738993 0.27737335 0.27463726 0.27530056\n",
      " 0.27349308 0.2762835  0.27888697 0.2775272 ]\n"
     ]
    }
   ],
   "source": [
    "clf = GaussianNB()\n",
    "scoring = 'accuracy'\n",
    "score = cross_val_score(clf, train_data, target, cv = k_fold, n_jobs=1, scoring=scoring)\n",
    "print(score)"
   ]
  },
  {
   "cell_type": "code",
   "execution_count": 37,
   "metadata": {},
   "outputs": [
    {
     "data": {
      "text/plain": [
       "27.64"
      ]
     },
     "execution_count": 37,
     "metadata": {},
     "output_type": "execute_result"
    }
   ],
   "source": [
    "#평균 정확도 구하기\n",
    "round(np.mean(score)*100,2)"
   ]
  },
  {
   "cell_type": "code",
   "execution_count": null,
   "metadata": {},
   "outputs": [],
   "source": [
    "#결과가 나오지 않음\n",
    "clf = SVC()\n",
    "scoring = 'accuracy'\n",
    "score = cross_val_score(clf, train_data, target, cv = k_fold, n_jobs=1, scoring=scoring)\n",
    "print(score)"
   ]
  },
  {
   "cell_type": "markdown",
   "metadata": {},
   "source": [
    "## 예측하기"
   ]
  },
  {
   "cell_type": "code",
   "execution_count": 43,
   "metadata": {},
   "outputs": [],
   "source": [
    "clf = linear_model.LinearRegression()\n",
    "clf.fit(train_data, target)\n",
    "\n",
    "prediction = clf.predict(test)"
   ]
  },
  {
   "cell_type": "code",
   "execution_count": 44,
   "metadata": {},
   "outputs": [],
   "source": [
    "submission = pd.DataFrame({\n",
    "    \"Rating\": prediction\n",
    "})\n",
    "\n",
    "submission.to_csv('submission_2.csv', index=False)"
   ]
  },
  {
   "cell_type": "code",
   "execution_count": 46,
   "metadata": {},
   "outputs": [
    {
     "data": {
      "text/html": [
       "<div>\n",
       "<style scoped>\n",
       "    .dataframe tbody tr th:only-of-type {\n",
       "        vertical-align: middle;\n",
       "    }\n",
       "\n",
       "    .dataframe tbody tr th {\n",
       "        vertical-align: top;\n",
       "    }\n",
       "\n",
       "    .dataframe thead th {\n",
       "        text-align: right;\n",
       "    }\n",
       "</style>\n",
       "<table border=\"1\" class=\"dataframe\">\n",
       "  <thead>\n",
       "    <tr style=\"text-align: right;\">\n",
       "      <th></th>\n",
       "      <th>Rating</th>\n",
       "    </tr>\n",
       "  </thead>\n",
       "  <tbody>\n",
       "    <tr>\n",
       "      <th>0</th>\n",
       "      <td>4.730026</td>\n",
       "    </tr>\n",
       "    <tr>\n",
       "      <th>1</th>\n",
       "      <td>3.104417</td>\n",
       "    </tr>\n",
       "    <tr>\n",
       "      <th>2</th>\n",
       "      <td>2.426846</td>\n",
       "    </tr>\n",
       "    <tr>\n",
       "      <th>3</th>\n",
       "      <td>2.459182</td>\n",
       "    </tr>\n",
       "    <tr>\n",
       "      <th>4</th>\n",
       "      <td>3.239650</td>\n",
       "    </tr>\n",
       "  </tbody>\n",
       "</table>\n",
       "</div>"
      ],
      "text/plain": [
       "     Rating\n",
       "0  4.730026\n",
       "1  3.104417\n",
       "2  2.426846\n",
       "3  2.459182\n",
       "4  3.239650"
      ]
     },
     "execution_count": 46,
     "metadata": {},
     "output_type": "execute_result"
    }
   ],
   "source": [
    "submission = pd.read_csv('submission_60191661.csv')\n",
    "submission.head()"
   ]
  }
 ],
 "metadata": {
  "kernelspec": {
   "display_name": "Python 3",
   "language": "python",
   "name": "python3"
  },
  "language_info": {
   "codemirror_mode": {
    "name": "ipython",
    "version": 3
   },
   "file_extension": ".py",
   "mimetype": "text/x-python",
   "name": "python",
   "nbconvert_exporter": "python",
   "pygments_lexer": "ipython3",
   "version": "3.7.9"
  }
 },
 "nbformat": 4,
 "nbformat_minor": 4
}
